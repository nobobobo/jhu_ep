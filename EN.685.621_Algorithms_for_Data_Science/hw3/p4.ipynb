{
 "metadata": {
  "language_info": {
   "codemirror_mode": {
    "name": "ipython",
    "version": 3
   },
   "file_extension": ".py",
   "mimetype": "text/x-python",
   "name": "python",
   "nbconvert_exporter": "python",
   "pygments_lexer": "ipython3",
   "version": "3.7.6-final"
  },
  "orig_nbformat": 2,
  "kernelspec": {
   "name": "python3",
   "display_name": "Python 3",
   "language": "python"
  }
 },
 "nbformat": 4,
 "nbformat_minor": 2,
 "cells": [
  {
   "cell_type": "code",
   "execution_count": 1,
   "metadata": {},
   "outputs": [],
   "source": [
    "import pandas as pd \n",
    "import numpy as np"
   ]
  },
  {
   "cell_type": "code",
   "execution_count": 2,
   "metadata": {},
   "outputs": [],
   "source": [
    "def read_and_split(file_name, n, D, classes=[]):\n",
    "    df = pd.read_csv(file_name)\n",
    "    train = df.iloc[0:0]\n",
    "    test = df.iloc[0:0]\n",
    "    for cls in classes: \n",
    "        cls_obs = df[df.iloc[:, D]==cls]\n",
    "        cls_train = cls_obs.sample(frac=0.8, random_state=0)\n",
    "        cls_test = cls_obs.drop(cls_train.index)\n",
    "        train = train.append(cls_train, ignore_index=True)\n",
    "        test = test.append(cls_test, ignore_index=True)\n",
    "\n",
    "    return train, test\n"
   ]
  },
  {
   "cell_type": "code",
   "execution_count": 3,
   "metadata": {},
   "outputs": [],
   "source": [
    "def gaussian_kernel(X1, X2, spread):\n",
    "    row1, col1 = X1.shape\n",
    "    row2, col2 = X2.shape\n",
    "    N = col2;\n",
    "    D = row2;\n",
    "    K = np.zeros([col1, col2]);\n",
    "    for i in range(col1):\n",
    "        for j in range(col2):\n",
    "            K[i,j] = (1/N)*(1/((np.sqrt(2*np.pi)*spread))**D) * np.exp(-0.5* np.dot((X1[i,:]- X2[j,:]).transpose(), (X1[i,:]-X2[j,:])) / (spread**2))\n",
    "        \n",
    "    return K"
   ]
  },
  {
   "cell_type": "code",
   "execution_count": null,
   "metadata": {},
   "outputs": [],
   "source": [
    "\n"
   ]
  }
 ]
}