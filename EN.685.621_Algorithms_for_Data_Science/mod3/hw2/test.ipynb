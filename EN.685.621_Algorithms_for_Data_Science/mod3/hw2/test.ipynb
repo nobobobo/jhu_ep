{
 "metadata": {
  "language_info": {
   "codemirror_mode": {
    "name": "ipython",
    "version": 3
   },
   "file_extension": ".py",
   "mimetype": "text/x-python",
   "name": "python",
   "nbconvert_exporter": "python",
   "pygments_lexer": "ipython3",
   "version": "3.7.6-final"
  },
  "orig_nbformat": 2,
  "kernelspec": {
   "name": "python3",
   "display_name": "Python 3",
   "language": "python"
  }
 },
 "nbformat": 4,
 "nbformat_minor": 2,
 "cells": [
  {
   "cell_type": "code",
   "execution_count": 1,
   "metadata": {},
   "outputs": [
    {
     "output_type": "stream",
     "name": "stdout",
     "text": [
      "Requirement already satisfied: pandas in /Users/nobo/opt/anaconda3/lib/python3.7/site-packages (0.25.3)\nRequirement already satisfied: numpy>=1.13.3 in /Users/nobo/opt/anaconda3/lib/python3.7/site-packages (from pandas) (1.18.1)\nRequirement already satisfied: pytz>=2017.2 in /Users/nobo/opt/anaconda3/lib/python3.7/site-packages (from pandas) (2019.3)\nRequirement already satisfied: python-dateutil>=2.6.1 in /Users/nobo/opt/anaconda3/lib/python3.7/site-packages (from pandas) (2.8.1)\nRequirement already satisfied: six>=1.5 in /Users/nobo/opt/anaconda3/lib/python3.7/site-packages (from python-dateutil>=2.6.1->pandas) (1.14.0)\n"
     ]
    }
   ],
   "source": [
    "!pip install pandas"
   ]
  },
  {
   "cell_type": "code",
   "execution_count": 35,
   "metadata": {},
   "outputs": [],
   "source": [
    "import pandas as pd\n",
    "import numpy as np"
   ]
  },
  {
   "cell_type": "code",
   "execution_count": 3,
   "metadata": {},
   "outputs": [],
   "source": [
    "df = pd.read_csv('iris.csv')"
   ]
  },
  {
   "cell_type": "code",
   "execution_count": 10,
   "metadata": {},
   "outputs": [
    {
     "output_type": "execute_result",
     "data": {
      "text/plain": [
       "array(['setosa', 'versicolor', 'virginica'], dtype=object)"
      ]
     },
     "metadata": {},
     "execution_count": 10
    }
   ],
   "source": [
    "df.species.unique()"
   ]
  },
  {
   "cell_type": "code",
   "execution_count": 13,
   "metadata": {},
   "outputs": [],
   "source": [
    "setosa = df.where(df.species == 'setosa')"
   ]
  },
  {
   "cell_type": "code",
   "execution_count": 25,
   "metadata": {},
   "outputs": [],
   "source": [
    "obs = setosa.dropna().iloc[:, 0:4]"
   ]
  },
  {
   "cell_type": "code",
   "execution_count": 107,
   "metadata": {},
   "outputs": [
    {
     "output_type": "execute_result",
     "data": {
      "text/plain": [
       "0      5.1\n",
       "1      4.9\n",
       "2      4.7\n",
       "3      4.6\n",
       "4      5.0\n",
       "      ... \n",
       "145    NaN\n",
       "146    NaN\n",
       "147    NaN\n",
       "148    NaN\n",
       "149    NaN\n",
       "Name: sepal_length, Length: 150, dtype: float64"
      ]
     },
     "metadata": {},
     "execution_count": 107
    }
   ],
   "source": [
    "setosa.sepal_length"
   ]
  },
  {
   "cell_type": "code",
   "execution_count": 97,
   "metadata": {},
   "outputs": [
    {
     "output_type": "execute_result",
     "data": {
      "text/plain": [
       "array([[0.12424898, 0.10029796, 0.01613878, 0.01054694],\n",
       "       [0.10029796, 0.14517959, 0.01168163, 0.01143673],\n",
       "       [0.01613878, 0.01168163, 0.03010612, 0.00569796],\n",
       "       [0.01054694, 0.01143673, 0.00569796, 0.01149388]])"
      ]
     },
     "metadata": {},
     "execution_count": 97
    }
   ],
   "source": [
    "obs.cov().as_matrix()"
   ]
  },
  {
   "cell_type": "code",
   "execution_count": 150,
   "metadata": {},
   "outputs": [],
   "source": [
    "mean = obs.mean().to_numpy()\n",
    "mn = obs.min().to_numpy()\n",
    "mx = obs.max().to_numpy()"
   ]
  },
  {
   "cell_type": "code",
   "execution_count": 151,
   "metadata": {},
   "outputs": [
    {
     "output_type": "execute_result",
     "data": {
      "text/plain": [
       "array([5.006, 3.418, 1.464, 0.244])"
      ]
     },
     "metadata": {},
     "execution_count": 151
    }
   ],
   "source": [
    "mean"
   ]
  },
  {
   "cell_type": "code",
   "execution_count": 47,
   "metadata": {},
   "outputs": [],
   "source": [
    "cov = obs.cov().as_matrix()"
   ]
  },
  {
   "cell_type": "code",
   "execution_count": 146,
   "metadata": {},
   "outputs": [],
   "source": [
    "rnd_mat = np.random.rand(100,4)"
   ]
  },
  {
   "cell_type": "code",
   "execution_count": 166,
   "metadata": {},
   "outputs": [],
   "source": [
    "mat = np.dot(rnd_mat , cov)"
   ]
  },
  {
   "cell_type": "code",
   "execution_count": 167,
   "metadata": {},
   "outputs": [
    {
     "output_type": "execute_result",
     "data": {
      "text/plain": [
       "array([[0.17179359, 0.19705315, 0.02869626, 0.02319896],\n",
       "       [0.12469239, 0.10805482, 0.03617894, 0.01823138],\n",
       "       [0.11975554, 0.13495914, 0.02212863, 0.01998893],\n",
       "       [0.16983738, 0.16507828, 0.04035575, 0.02457419],\n",
       "       [0.17322889, 0.18702917, 0.02822471, 0.02459718],\n",
       "       [0.10637539, 0.10875797, 0.04457161, 0.02364455],\n",
       "       [0.03812213, 0.04282935, 0.00945201, 0.00684184],\n",
       "       [0.12069709, 0.13755156, 0.0177506 , 0.01491228],\n",
       "       [0.14916976, 0.13542902, 0.03668845, 0.01950884],\n",
       "       [0.12254319, 0.11761315, 0.0263677 , 0.01502934]])"
      ]
     },
     "metadata": {},
     "execution_count": 167
    }
   ],
   "source": [
    "mat[0:10]"
   ]
  },
  {
   "cell_type": "code",
   "execution_count": 168,
   "metadata": {},
   "outputs": [
    {
     "output_type": "stream",
     "name": "stdout",
     "text": [
      "[[6.98285664 0.19705315 0.02869626 0.02319896]\n [5.06834453 0.10805482 0.03617894 0.01823138]\n [4.8676774  0.13495914 0.02212863 0.01998893]\n [6.90334317 0.16507828 0.04035575 0.02457419]\n [7.04119688 0.18702917 0.02822471 0.02459718]]\n---\n[[6.98285664 5.10761825 0.02869626 0.02319896]\n [5.06834453 2.80078118 0.03617894 0.01823138]\n [4.8676774  3.49814147 0.02212863 0.01998893]\n [6.90334317 4.27882965 0.04035575 0.02457419]\n [7.04119688 4.84779665 0.02822471 0.02459718]]\n---\n[[6.98285664 5.10761825 1.28372048 0.02319896]\n [5.06834453 2.80078118 1.61845679 0.01823138]\n [4.8676774  3.49814147 0.98991924 0.01998893]\n [6.90334317 4.27882965 1.80530504 0.02457419]\n [7.04119688 4.84779665 1.26262597 0.02459718]]\n---\n[[6.98285664 5.10761825 1.28372048 0.28794252]\n [5.06834453 2.80078118 1.61845679 0.22628554]\n [4.8676774  3.49814147 0.98991924 0.24809998]\n [6.90334317 4.27882965 1.80530504 0.30501164]\n [7.04119688 4.84779665 1.26262597 0.30529704]]\n---\n"
     ]
    }
   ],
   "source": [
    "    for i in range(len(mat[0])):\n",
    "        mat[:, i] /= mat[:, i].mean()\n",
    "        mat[:, i] *= mean[i]\n",
    "        print(mat[:5])\n",
    "        print('---')"
   ]
  },
  {
   "cell_type": "code",
   "execution_count": 162,
   "metadata": {},
   "outputs": [
    {
     "output_type": "execute_result",
     "data": {
      "text/plain": [
       "array([[6.98285664, 5.10761825, 1.28372048, 0.28794252],\n",
       "       [5.06834453, 2.80078118, 1.61845679, 0.22628554],\n",
       "       [4.8676774 , 3.49814147, 0.98991924, 0.24809998],\n",
       "       [6.90334317, 4.27882965, 1.80530504, 0.30501164],\n",
       "       [7.04119688, 4.84779665, 1.26262597, 0.30529704],\n",
       "       [4.32381737, 2.8190069 , 1.99390052, 0.29347309],\n",
       "       [1.54954198, 1.1101369 , 0.42283364, 0.08492004],\n",
       "       [4.90594821, 3.56533689, 0.79406906, 0.18508935],\n",
       "       [6.0632709 , 3.51032052, 1.64124929, 0.24214127],\n",
       "       [4.98098659, 3.04853324, 1.17955315, 0.18654227],\n",
       "       [6.26078418, 4.89700834, 1.94226919, 0.35806409],\n",
       "       [2.52622155, 1.32171181, 0.93457028, 0.12431483],\n",
       "       [2.80488704, 2.22799338, 1.5328046 , 0.22056776],\n",
       "       [4.56870264, 2.73423678, 1.53164649, 0.18935147],\n",
       "       [7.00707164, 5.14176385, 1.56476339, 0.28486035],\n",
       "       [5.99064136, 4.68239377, 1.35650666, 0.27822872],\n",
       "       [2.52802303, 1.46404566, 0.48746187, 0.13834701],\n",
       "       [7.77165001, 4.97569167, 2.14391269, 0.38789771],\n",
       "       [8.06541067, 5.3882269 , 1.99511423, 0.29661217],\n",
       "       [5.74669787, 4.64252353, 1.12727306, 0.31664005],\n",
       "       [0.95330042, 0.76496058, 0.42699876, 0.07001044],\n",
       "       [5.17639651, 3.94734282, 1.76146425, 0.30656423],\n",
       "       [5.26307087, 3.74658204, 1.94453502, 0.23405428],\n",
       "       [3.65084061, 3.02043891, 1.7378552 , 0.18598767],\n",
       "       [4.29352641, 2.811186  , 1.81962325, 0.24983412],\n",
       "       [5.20077935, 3.55898799, 1.85410676, 0.2191972 ],\n",
       "       [6.29743412, 4.7342    , 1.18749355, 0.23906476],\n",
       "       [8.64325152, 6.04030924, 2.47896227, 0.35676299],\n",
       "       [6.31001504, 3.79759792, 1.53738219, 0.29835662],\n",
       "       [2.78257011, 2.01382593, 1.2086746 , 0.1372826 ],\n",
       "       [4.03388058, 3.11328996, 1.68429741, 0.21874039],\n",
       "       [5.89945929, 4.32591766, 0.9086297 , 0.19154561],\n",
       "       [4.56558942, 2.99855876, 0.98797244, 0.20367345],\n",
       "       [4.97699539, 3.07842271, 1.65789691, 0.29902279],\n",
       "       [4.5693074 , 3.79854834, 1.36537262, 0.22887994],\n",
       "       [7.76971449, 5.35930987, 1.76886757, 0.31879908],\n",
       "       [2.63123954, 1.94263224, 0.88013912, 0.13425842],\n",
       "       [4.28182161, 3.4729153 , 1.66500627, 0.21479762],\n",
       "       [4.5404189 , 3.10297632, 1.9735419 , 0.31154485],\n",
       "       [4.25017486, 2.92171078, 1.78274925, 0.27810326],\n",
       "       [1.24373938, 0.93827792, 0.47746598, 0.05261348],\n",
       "       [3.77638464, 2.57060613, 1.14140263, 0.21312991],\n",
       "       [6.37216798, 4.66328101, 1.74717489, 0.34436594],\n",
       "       [6.27318714, 3.56717945, 1.64144637, 0.31155945],\n",
       "       [5.64489365, 3.25637125, 1.69125138, 0.2845628 ],\n",
       "       [2.71270644, 1.5509908 , 1.26912787, 0.23209592],\n",
       "       [7.59720594, 4.7732812 , 2.3170259 , 0.27959135],\n",
       "       [4.57793925, 3.58167896, 0.88101855, 0.22815713],\n",
       "       [6.58505896, 4.91006584, 1.98192557, 0.3650649 ],\n",
       "       [6.02237505, 4.55253177, 1.05785783, 0.26642982],\n",
       "       [5.18505471, 3.06460134, 1.50619153, 0.27900162],\n",
       "       [5.49673346, 4.01161064, 1.35331077, 0.26799758],\n",
       "       [3.48751507, 1.96525005, 0.80239722, 0.19787831],\n",
       "       [2.71434486, 1.83898682, 1.22539197, 0.21331026],\n",
       "       [2.12040865, 1.31394342, 1.57356745, 0.19771839],\n",
       "       [4.85394863, 3.93307754, 1.20157765, 0.25313775],\n",
       "       [6.90697979, 4.2915034 , 1.19848301, 0.2814117 ],\n",
       "       [2.73772597, 2.25679757, 0.70290075, 0.18470236],\n",
       "       [7.39096489, 4.80150071, 2.32045269, 0.3114381 ],\n",
       "       [8.42126068, 5.65039057, 1.52406083, 0.30632129],\n",
       "       [2.38364833, 1.75511605, 0.91945937, 0.1411235 ],\n",
       "       [3.24833922, 2.00270572, 1.2832085 , 0.17814223],\n",
       "       [5.73013774, 3.45217235, 1.89390415, 0.23795431],\n",
       "       [4.04888093, 3.13247496, 1.54361608, 0.25242266],\n",
       "       [4.25492582, 2.67682827, 1.05676514, 0.19290394],\n",
       "       [6.127815  , 3.89011391, 1.68768533, 0.3278071 ],\n",
       "       [6.99470163, 4.40739312, 1.20892436, 0.25137513],\n",
       "       [4.5769148 , 2.43025412, 1.79066089, 0.17350309],\n",
       "       [1.03573256, 0.64690147, 1.35132747, 0.10176223],\n",
       "       [4.01246714, 3.38825821, 0.95790519, 0.18481288],\n",
       "       [3.58939525, 2.99225116, 0.95168234, 0.20609411],\n",
       "       [3.85708921, 2.10153113, 1.7431685 , 0.26557616],\n",
       "       [0.87549203, 0.57726873, 0.46221483, 0.14699151],\n",
       "       [7.87642782, 5.38192092, 2.48069729, 0.3891035 ],\n",
       "       [5.16555297, 3.99520552, 1.23816992, 0.20717298],\n",
       "       [7.75809129, 5.07079615, 1.94896409, 0.34907599],\n",
       "       [6.9285084 , 4.46024672, 1.76508462, 0.35314448],\n",
       "       [6.49534844, 3.94502679, 2.07453187, 0.30982749],\n",
       "       [4.9772256 , 3.14711154, 1.84922963, 0.22203276],\n",
       "       [7.05736543, 4.62569347, 1.51875872, 0.30189438],\n",
       "       [6.41261141, 4.26639795, 1.38951308, 0.24479787],\n",
       "       [3.51576742, 2.52754299, 0.97012127, 0.19719977],\n",
       "       [2.32605298, 1.79026075, 1.21183712, 0.11869524],\n",
       "       [3.51673687, 2.54684998, 1.03859376, 0.13862773],\n",
       "       [5.30978957, 3.67006847, 1.8043767 , 0.23057663],\n",
       "       [4.1544195 , 2.19619452, 1.56947739, 0.25972763],\n",
       "       [4.47349389, 2.70078322, 0.80606306, 0.1585281 ],\n",
       "       [6.27390841, 4.61605632, 2.18086462, 0.34928842],\n",
       "       [6.47186733, 4.66401438, 1.25440719, 0.2651967 ],\n",
       "       [4.50631079, 3.08821992, 1.6899561 , 0.19840987],\n",
       "       [5.61101682, 4.22000158, 1.87551826, 0.27626874],\n",
       "       [6.81062859, 4.79998853, 1.95354705, 0.25616537],\n",
       "       [4.45762182, 3.18565239, 0.80544271, 0.24852775],\n",
       "       [8.18783504, 5.30725624, 1.92459361, 0.36741308],\n",
       "       [7.27297897, 4.77575127, 2.32873395, 0.31882177],\n",
       "       [5.51396256, 4.10421212, 1.72633623, 0.26781102],\n",
       "       [5.22421663, 3.70977469, 1.32517936, 0.3056626 ],\n",
       "       [4.84418555, 3.07804829, 2.05643298, 0.29711392],\n",
       "       [2.69345218, 1.6019808 , 1.57670935, 0.17181807],\n",
       "       [3.86162882, 2.76793817, 1.33278236, 0.20997398]])"
      ]
     },
     "metadata": {},
     "execution_count": 162
    }
   ],
   "source": [
    "mat"
   ]
  },
  {
   "cell_type": "code",
   "execution_count": 152,
   "metadata": {},
   "outputs": [],
   "source": [
    "mat[:,0] /= mat[:,0].mean()\n",
    "mat[:,0] *= mean[0]"
   ]
  },
  {
   "cell_type": "code",
   "execution_count": 153,
   "metadata": {},
   "outputs": [
    {
     "output_type": "execute_result",
     "data": {
      "text/plain": [
       "5.005999999999998"
      ]
     },
     "metadata": {},
     "execution_count": 153
    }
   ],
   "source": [
    "mat[:,0].mean()"
   ]
  },
  {
   "cell_type": "code",
   "execution_count": 154,
   "metadata": {},
   "outputs": [
    {
     "output_type": "execute_result",
     "data": {
      "text/plain": [
       "           0         1         2         3\n",
       "0   1.788571 -1.001403 -1.079226 -0.153602\n",
       "1   0.512230 -1.043783 -1.070912 -0.163537\n",
       "2   0.378452 -1.030972 -1.086524 -0.160022\n",
       "3   1.735562 -1.016629 -1.066271 -0.150852\n",
       "4   1.827465 -1.006177 -1.079750 -0.150806\n",
       "..       ...       ...       ...       ...\n",
       "95  0.809308 -1.019837 -1.068233 -0.156846\n",
       "96  0.616144 -1.027084 -1.078197 -0.150747\n",
       "97  0.362790 -1.038690 -1.060034 -0.152124\n",
       "98 -1.071032 -1.065807 -1.071949 -0.172314\n",
       "99 -0.292247 -1.044387 -1.078008 -0.166166\n",
       "\n",
       "[100 rows x 4 columns]"
      ],
      "text/html": "<div>\n<style scoped>\n    .dataframe tbody tr th:only-of-type {\n        vertical-align: middle;\n    }\n\n    .dataframe tbody tr th {\n        vertical-align: top;\n    }\n\n    .dataframe thead th {\n        text-align: right;\n    }\n</style>\n<table border=\"1\" class=\"dataframe\">\n  <thead>\n    <tr style=\"text-align: right;\">\n      <th></th>\n      <th>0</th>\n      <th>1</th>\n      <th>2</th>\n      <th>3</th>\n    </tr>\n  </thead>\n  <tbody>\n    <tr>\n      <th>0</th>\n      <td>1.788571</td>\n      <td>-1.001403</td>\n      <td>-1.079226</td>\n      <td>-0.153602</td>\n    </tr>\n    <tr>\n      <th>1</th>\n      <td>0.512230</td>\n      <td>-1.043783</td>\n      <td>-1.070912</td>\n      <td>-0.163537</td>\n    </tr>\n    <tr>\n      <th>2</th>\n      <td>0.378452</td>\n      <td>-1.030972</td>\n      <td>-1.086524</td>\n      <td>-0.160022</td>\n    </tr>\n    <tr>\n      <th>3</th>\n      <td>1.735562</td>\n      <td>-1.016629</td>\n      <td>-1.066271</td>\n      <td>-0.150852</td>\n    </tr>\n    <tr>\n      <th>4</th>\n      <td>1.827465</td>\n      <td>-1.006177</td>\n      <td>-1.079750</td>\n      <td>-0.150806</td>\n    </tr>\n    <tr>\n      <th>...</th>\n      <td>...</td>\n      <td>...</td>\n      <td>...</td>\n      <td>...</td>\n    </tr>\n    <tr>\n      <th>95</th>\n      <td>0.809308</td>\n      <td>-1.019837</td>\n      <td>-1.068233</td>\n      <td>-0.156846</td>\n    </tr>\n    <tr>\n      <th>96</th>\n      <td>0.616144</td>\n      <td>-1.027084</td>\n      <td>-1.078197</td>\n      <td>-0.150747</td>\n    </tr>\n    <tr>\n      <th>97</th>\n      <td>0.362790</td>\n      <td>-1.038690</td>\n      <td>-1.060034</td>\n      <td>-0.152124</td>\n    </tr>\n    <tr>\n      <th>98</th>\n      <td>-1.071032</td>\n      <td>-1.065807</td>\n      <td>-1.071949</td>\n      <td>-0.172314</td>\n    </tr>\n    <tr>\n      <th>99</th>\n      <td>-0.292247</td>\n      <td>-1.044387</td>\n      <td>-1.078008</td>\n      <td>-0.166166</td>\n    </tr>\n  </tbody>\n</table>\n<p>100 rows × 4 columns</p>\n</div>"
     },
     "metadata": {},
     "execution_count": 154
    }
   ],
   "source": [
    "pd.DataFrame((mat-mn)/(mx-mn))"
   ]
  },
  {
   "cell_type": "code",
   "execution_count": 84,
   "metadata": {},
   "outputs": [],
   "source": [
    "mat[:,0] *= mean[0]"
   ]
  },
  {
   "cell_type": "code",
   "execution_count": 66,
   "metadata": {},
   "outputs": [
    {
     "output_type": "execute_result",
     "data": {
      "text/plain": [
       "5.005999999999999"
      ]
     },
     "metadata": {},
     "execution_count": 66
    }
   ],
   "source": [
    "mean[0]"
   ]
  },
  {
   "cell_type": "code",
   "execution_count": 90,
   "metadata": {},
   "outputs": [
    {
     "output_type": "execute_result",
     "data": {
      "text/plain": [
       "array([4.77164445, 0.10600572, 0.04125562, 0.01985919])"
      ]
     },
     "metadata": {},
     "execution_count": 90
    }
   ],
   "source": [
    "mat[0]"
   ]
  },
  {
   "cell_type": "code",
   "execution_count": 91,
   "metadata": {},
   "outputs": [
    {
     "output_type": "execute_result",
     "data": {
      "text/plain": [
       "[4.3, 2.3, 1.0, 0.1]"
      ]
     },
     "metadata": {},
     "execution_count": 91
    }
   ],
   "source": [
    "mn"
   ]
  },
  {
   "cell_type": "code",
   "execution_count": 132,
   "metadata": {},
   "outputs": [],
   "source": [
    "new_df = pd.DataFrame((mat - mn)/(mx - mn))\n",
    "new_df.columns = ['sepal_length', 'sepal_width', 'petal_length', 'petal_width']\n",
    "new_df[\n",
    "    'species'] = 'setosa'"
   ]
  },
  {
   "cell_type": "code",
   "execution_count": 140,
   "metadata": {},
   "outputs": [],
   "source": [
    "df_1 = pd.DataFrame(columns=['sepal_length', 'sepal_width', 'petal_length', 'petal_width','species'])\n"
   ]
  },
  {
   "cell_type": "code",
   "execution_count": 145,
   "metadata": {},
   "outputs": [
    {
     "output_type": "error",
     "ename": "TypeError",
     "evalue": "Index(...) must be called with a collection of some kind, 's' was passed",
     "traceback": [
      "\u001b[0;31m---------------------------------------------------------------------------\u001b[0m",
      "\u001b[0;31mTypeError\u001b[0m                                 Traceback (most recent call last)",
      "\u001b[0;32m<ipython-input-145-166fa7141a48>\u001b[0m in \u001b[0;36m<module>\u001b[0;34m\u001b[0m\n\u001b[0;32m----> 1\u001b[0;31m \u001b[0mpd\u001b[0m\u001b[0;34m.\u001b[0m\u001b[0mDataFrame\u001b[0m\u001b[0;34m(\u001b[0m\u001b[0;34m(\u001b[0m\u001b[0mmat\u001b[0m \u001b[0;34m-\u001b[0m \u001b[0mmn\u001b[0m\u001b[0;34m)\u001b[0m\u001b[0;34m/\u001b[0m\u001b[0;34m(\u001b[0m\u001b[0mmx\u001b[0m \u001b[0;34m-\u001b[0m \u001b[0mmn\u001b[0m\u001b[0;34m)\u001b[0m\u001b[0;34m,\u001b[0m\u001b[0;34m's'\u001b[0m\u001b[0;34m)\u001b[0m\u001b[0;34m\u001b[0m\u001b[0;34m\u001b[0m\u001b[0m\n\u001b[0m",
      "\u001b[0;32m~/opt/anaconda3/lib/python3.7/site-packages/pandas/core/frame.py\u001b[0m in \u001b[0;36m__init__\u001b[0;34m(self, data, index, columns, dtype, copy)\u001b[0m\n\u001b[1;32m    438\u001b[0m                 \u001b[0mmgr\u001b[0m \u001b[0;34m=\u001b[0m \u001b[0minit_dict\u001b[0m\u001b[0;34m(\u001b[0m\u001b[0;34m{\u001b[0m\u001b[0mdata\u001b[0m\u001b[0;34m.\u001b[0m\u001b[0mname\u001b[0m\u001b[0;34m:\u001b[0m \u001b[0mdata\u001b[0m\u001b[0;34m}\u001b[0m\u001b[0;34m,\u001b[0m \u001b[0mindex\u001b[0m\u001b[0;34m,\u001b[0m \u001b[0mcolumns\u001b[0m\u001b[0;34m,\u001b[0m \u001b[0mdtype\u001b[0m\u001b[0;34m=\u001b[0m\u001b[0mdtype\u001b[0m\u001b[0;34m)\u001b[0m\u001b[0;34m\u001b[0m\u001b[0;34m\u001b[0m\u001b[0m\n\u001b[1;32m    439\u001b[0m             \u001b[0;32melse\u001b[0m\u001b[0;34m:\u001b[0m\u001b[0;34m\u001b[0m\u001b[0;34m\u001b[0m\u001b[0m\n\u001b[0;32m--> 440\u001b[0;31m                 \u001b[0mmgr\u001b[0m \u001b[0;34m=\u001b[0m \u001b[0minit_ndarray\u001b[0m\u001b[0;34m(\u001b[0m\u001b[0mdata\u001b[0m\u001b[0;34m,\u001b[0m \u001b[0mindex\u001b[0m\u001b[0;34m,\u001b[0m \u001b[0mcolumns\u001b[0m\u001b[0;34m,\u001b[0m \u001b[0mdtype\u001b[0m\u001b[0;34m=\u001b[0m\u001b[0mdtype\u001b[0m\u001b[0;34m,\u001b[0m \u001b[0mcopy\u001b[0m\u001b[0;34m=\u001b[0m\u001b[0mcopy\u001b[0m\u001b[0;34m)\u001b[0m\u001b[0;34m\u001b[0m\u001b[0;34m\u001b[0m\u001b[0m\n\u001b[0m\u001b[1;32m    441\u001b[0m \u001b[0;34m\u001b[0m\u001b[0m\n\u001b[1;32m    442\u001b[0m         \u001b[0;31m# For data is list-like, or Iterable (will consume into list)\u001b[0m\u001b[0;34m\u001b[0m\u001b[0;34m\u001b[0m\u001b[0;34m\u001b[0m\u001b[0m\n",
      "\u001b[0;32m~/opt/anaconda3/lib/python3.7/site-packages/pandas/core/internals/construction.py\u001b[0m in \u001b[0;36minit_ndarray\u001b[0;34m(values, index, columns, dtype, copy)\u001b[0m\n\u001b[1;32m    182\u001b[0m                 \u001b[0mraise_with_traceback\u001b[0m\u001b[0;34m(\u001b[0m\u001b[0me\u001b[0m\u001b[0;34m)\u001b[0m\u001b[0;34m\u001b[0m\u001b[0;34m\u001b[0m\u001b[0m\n\u001b[1;32m    183\u001b[0m \u001b[0;34m\u001b[0m\u001b[0m\n\u001b[0;32m--> 184\u001b[0;31m     \u001b[0mindex\u001b[0m\u001b[0;34m,\u001b[0m \u001b[0mcolumns\u001b[0m \u001b[0;34m=\u001b[0m \u001b[0m_get_axes\u001b[0m\u001b[0;34m(\u001b[0m\u001b[0;34m*\u001b[0m\u001b[0mvalues\u001b[0m\u001b[0;34m.\u001b[0m\u001b[0mshape\u001b[0m\u001b[0;34m,\u001b[0m \u001b[0mindex\u001b[0m\u001b[0;34m=\u001b[0m\u001b[0mindex\u001b[0m\u001b[0;34m,\u001b[0m \u001b[0mcolumns\u001b[0m\u001b[0;34m=\u001b[0m\u001b[0mcolumns\u001b[0m\u001b[0;34m)\u001b[0m\u001b[0;34m\u001b[0m\u001b[0;34m\u001b[0m\u001b[0m\n\u001b[0m\u001b[1;32m    185\u001b[0m     \u001b[0mvalues\u001b[0m \u001b[0;34m=\u001b[0m \u001b[0mvalues\u001b[0m\u001b[0;34m.\u001b[0m\u001b[0mT\u001b[0m\u001b[0;34m\u001b[0m\u001b[0;34m\u001b[0m\u001b[0m\n\u001b[1;32m    186\u001b[0m \u001b[0;34m\u001b[0m\u001b[0m\n",
      "\u001b[0;32m~/opt/anaconda3/lib/python3.7/site-packages/pandas/core/internals/construction.py\u001b[0m in \u001b[0;36m_get_axes\u001b[0;34m(N, K, index, columns)\u001b[0m\n\u001b[1;32m    425\u001b[0m         \u001b[0mindex\u001b[0m \u001b[0;34m=\u001b[0m \u001b[0mibase\u001b[0m\u001b[0;34m.\u001b[0m\u001b[0mdefault_index\u001b[0m\u001b[0;34m(\u001b[0m\u001b[0mN\u001b[0m\u001b[0;34m)\u001b[0m\u001b[0;34m\u001b[0m\u001b[0;34m\u001b[0m\u001b[0m\n\u001b[1;32m    426\u001b[0m     \u001b[0;32melse\u001b[0m\u001b[0;34m:\u001b[0m\u001b[0;34m\u001b[0m\u001b[0;34m\u001b[0m\u001b[0m\n\u001b[0;32m--> 427\u001b[0;31m         \u001b[0mindex\u001b[0m \u001b[0;34m=\u001b[0m \u001b[0mensure_index\u001b[0m\u001b[0;34m(\u001b[0m\u001b[0mindex\u001b[0m\u001b[0;34m)\u001b[0m\u001b[0;34m\u001b[0m\u001b[0;34m\u001b[0m\u001b[0m\n\u001b[0m\u001b[1;32m    428\u001b[0m \u001b[0;34m\u001b[0m\u001b[0m\n\u001b[1;32m    429\u001b[0m     \u001b[0;32mif\u001b[0m \u001b[0mcolumns\u001b[0m \u001b[0;32mis\u001b[0m \u001b[0;32mNone\u001b[0m\u001b[0;34m:\u001b[0m\u001b[0;34m\u001b[0m\u001b[0;34m\u001b[0m\u001b[0m\n",
      "\u001b[0;32m~/opt/anaconda3/lib/python3.7/site-packages/pandas/core/indexes/base.py\u001b[0m in \u001b[0;36mensure_index\u001b[0;34m(index_like, copy)\u001b[0m\n\u001b[1;32m   5769\u001b[0m             \u001b[0mindex_like\u001b[0m \u001b[0;34m=\u001b[0m \u001b[0mcopy\u001b[0m\u001b[0;34m(\u001b[0m\u001b[0mindex_like\u001b[0m\u001b[0;34m)\u001b[0m\u001b[0;34m\u001b[0m\u001b[0;34m\u001b[0m\u001b[0m\n\u001b[1;32m   5770\u001b[0m \u001b[0;34m\u001b[0m\u001b[0m\n\u001b[0;32m-> 5771\u001b[0;31m     \u001b[0;32mreturn\u001b[0m \u001b[0mIndex\u001b[0m\u001b[0;34m(\u001b[0m\u001b[0mindex_like\u001b[0m\u001b[0;34m)\u001b[0m\u001b[0;34m\u001b[0m\u001b[0;34m\u001b[0m\u001b[0m\n\u001b[0m\u001b[1;32m   5772\u001b[0m \u001b[0;34m\u001b[0m\u001b[0m\n\u001b[1;32m   5773\u001b[0m \u001b[0;34m\u001b[0m\u001b[0m\n",
      "\u001b[0;32m~/opt/anaconda3/lib/python3.7/site-packages/pandas/core/indexes/base.py\u001b[0m in \u001b[0;36m__new__\u001b[0;34m(cls, data, dtype, copy, name, fastpath, tupleize_cols, **kwargs)\u001b[0m\n\u001b[1;32m    517\u001b[0m             \u001b[0;32mreturn\u001b[0m \u001b[0mIndex\u001b[0m\u001b[0;34m(\u001b[0m\u001b[0mnp\u001b[0m\u001b[0;34m.\u001b[0m\u001b[0masarray\u001b[0m\u001b[0;34m(\u001b[0m\u001b[0mdata\u001b[0m\u001b[0;34m)\u001b[0m\u001b[0;34m,\u001b[0m \u001b[0mdtype\u001b[0m\u001b[0;34m=\u001b[0m\u001b[0mdtype\u001b[0m\u001b[0;34m,\u001b[0m \u001b[0mcopy\u001b[0m\u001b[0;34m=\u001b[0m\u001b[0mcopy\u001b[0m\u001b[0;34m,\u001b[0m \u001b[0mname\u001b[0m\u001b[0;34m=\u001b[0m\u001b[0mname\u001b[0m\u001b[0;34m,\u001b[0m \u001b[0;34m**\u001b[0m\u001b[0mkwargs\u001b[0m\u001b[0;34m)\u001b[0m\u001b[0;34m\u001b[0m\u001b[0;34m\u001b[0m\u001b[0m\n\u001b[1;32m    518\u001b[0m         \u001b[0;32melif\u001b[0m \u001b[0mdata\u001b[0m \u001b[0;32mis\u001b[0m \u001b[0;32mNone\u001b[0m \u001b[0;32mor\u001b[0m \u001b[0mis_scalar\u001b[0m\u001b[0;34m(\u001b[0m\u001b[0mdata\u001b[0m\u001b[0;34m)\u001b[0m\u001b[0;34m:\u001b[0m\u001b[0;34m\u001b[0m\u001b[0;34m\u001b[0m\u001b[0m\n\u001b[0;32m--> 519\u001b[0;31m             \u001b[0mcls\u001b[0m\u001b[0;34m.\u001b[0m\u001b[0m_scalar_data_error\u001b[0m\u001b[0;34m(\u001b[0m\u001b[0mdata\u001b[0m\u001b[0;34m)\u001b[0m\u001b[0;34m\u001b[0m\u001b[0;34m\u001b[0m\u001b[0m\n\u001b[0m\u001b[1;32m    520\u001b[0m         \u001b[0;32melse\u001b[0m\u001b[0;34m:\u001b[0m\u001b[0;34m\u001b[0m\u001b[0;34m\u001b[0m\u001b[0m\n\u001b[1;32m    521\u001b[0m             \u001b[0;32mif\u001b[0m \u001b[0mtupleize_cols\u001b[0m \u001b[0;32mand\u001b[0m \u001b[0mis_list_like\u001b[0m\u001b[0;34m(\u001b[0m\u001b[0mdata\u001b[0m\u001b[0;34m)\u001b[0m\u001b[0;34m:\u001b[0m\u001b[0;34m\u001b[0m\u001b[0;34m\u001b[0m\u001b[0m\n",
      "\u001b[0;32m~/opt/anaconda3/lib/python3.7/site-packages/pandas/core/indexes/base.py\u001b[0m in \u001b[0;36m_scalar_data_error\u001b[0;34m(cls, data)\u001b[0m\n\u001b[1;32m   4106\u001b[0m         raise TypeError(\n\u001b[1;32m   4107\u001b[0m             \u001b[0;34m\"{0}(...) must be called with a collection of some \"\u001b[0m\u001b[0;34m\u001b[0m\u001b[0;34m\u001b[0m\u001b[0m\n\u001b[0;32m-> 4108\u001b[0;31m             \u001b[0;34m\"kind, {1} was passed\"\u001b[0m\u001b[0;34m.\u001b[0m\u001b[0mformat\u001b[0m\u001b[0;34m(\u001b[0m\u001b[0mcls\u001b[0m\u001b[0;34m.\u001b[0m\u001b[0m__name__\u001b[0m\u001b[0;34m,\u001b[0m \u001b[0mrepr\u001b[0m\u001b[0;34m(\u001b[0m\u001b[0mdata\u001b[0m\u001b[0;34m)\u001b[0m\u001b[0;34m)\u001b[0m\u001b[0;34m\u001b[0m\u001b[0;34m\u001b[0m\u001b[0m\n\u001b[0m\u001b[1;32m   4109\u001b[0m         )\n\u001b[1;32m   4110\u001b[0m \u001b[0;34m\u001b[0m\u001b[0m\n",
      "\u001b[0;31mTypeError\u001b[0m: Index(...) must be called with a collection of some kind, 's' was passed"
     ]
    }
   ],
   "source": [
    "pd.DataFrame((mat - mn)/(mx - mn)"
   ]
  },
  {
   "cell_type": "code",
   "execution_count": 108,
   "metadata": {},
   "outputs": [],
   "source": [
    "import matplotlib.pyplot as plt"
   ]
  },
  {
   "cell_type": "code",
   "execution_count": 109,
   "metadata": {},
   "outputs": [],
   "source": [
    "df = pd.read_csv('iris.csv')\n",
    "classes = df.species.unique()"
   ]
  },
  {
   "cell_type": "code",
   "execution_count": 112,
   "metadata": {},
   "outputs": [],
   "source": [
    "obs = df.where(df.species == 'setosa').dropna().iloc[:, 0:4]"
   ]
  },
  {
   "cell_type": "code",
   "execution_count": 120,
   "metadata": {},
   "outputs": [],
   "source": [
    "colors = np.where(df.species == 'setosa','r',np.where(df.species == 'versicolor','g','b'))"
   ]
  },
  {
   "cell_type": "code",
   "execution_count": 123,
   "metadata": {},
   "outputs": [
    {
     "output_type": "display_data",
     "data": {
      "text/plain": "<Figure size 432x288 with 1 Axes>",
      "image/svg+xml": "<?xml version=\"1.0\" encoding=\"utf-8\" standalone=\"no\"?>\n<!DOCTYPE svg PUBLIC \"-//W3C//DTD SVG 1.1//EN\"\n  \"http://www.w3.org/Graphics/SVG/1.1/DTD/svg11.dtd\">\n<!-- Created with matplotlib (https://matplotlib.org/) -->\n<svg height=\"248.518125pt\" version=\"1.1\" viewBox=\"0 0 372.495349 248.518125\" width=\"372.495349pt\" xmlns=\"http://www.w3.org/2000/svg\" xmlns:xlink=\"http://www.w3.org/1999/xlink\">\n <defs>\n  <style type=\"text/css\">\n*{stroke-linecap:butt;stroke-linejoin:round;}\n  </style>\n </defs>\n <g id=\"figure_1\">\n  <g id=\"patch_1\">\n   <path d=\"M 0 248.518125 \nL 372.495349 248.518125 \nL 372.495349 0 \nL 0 0 \nz\n\" style=\"fill:none;\"/>\n  </g>\n  <g id=\"axes_1\">\n   <g id=\"patch_2\">\n    <path d=\"M 30.103125 224.64 \nL 364.903125 224.64 \nL 364.903125 7.2 \nL 30.103125 7.2 \nz\n\" style=\"fill:#ffffff;\"/>\n   </g>\n   <g id=\"PathCollection_1\">\n    <defs>\n     <path d=\"M 0 3 \nC 0.795609 3 1.55874 2.683901 2.12132 2.12132 \nC 2.683901 1.55874 3 0.795609 3 0 \nC 3 -0.795609 2.683901 -1.55874 2.12132 -2.12132 \nC 1.55874 -2.683901 0.795609 -3 0 -3 \nC -0.795609 -3 -1.55874 -2.683901 -2.12132 -2.12132 \nC -2.683901 -1.55874 -3 -0.795609 -3 0 \nC -3 0.795609 -2.683901 1.55874 -2.12132 2.12132 \nC -1.55874 2.683901 -0.795609 3 0 3 \nz\n\" id=\"C0_0_1ac44f38da\"/>\n    </defs>\n    <g clip-path=\"url(#p97515121aa)\">\n     <use style=\"fill:#ff0000;stroke:#ff0000;\" x=\"113.376461\" xlink:href=\"#C0_0_1ac44f38da\" y=\"205.490174\"/>\n    </g>\n    <g clip-path=\"url(#p97515121aa)\">\n     <use style=\"fill:#ff0000;stroke:#ff0000;\" x=\"96.551128\" xlink:href=\"#C0_0_1ac44f38da\" y=\"205.490174\"/>\n    </g>\n    <g clip-path=\"url(#p97515121aa)\">\n     <use style=\"fill:#ff0000;stroke:#ff0000;\" x=\"79.725796\" xlink:href=\"#C0_0_1ac44f38da\" y=\"205.490174\"/>\n    </g>\n    <g clip-path=\"url(#p97515121aa)\">\n     <use style=\"fill:#ff0000;stroke:#ff0000;\" x=\"71.313129\" xlink:href=\"#C0_0_1ac44f38da\" y=\"205.490174\"/>\n    </g>\n    <g clip-path=\"url(#p97515121aa)\">\n     <use style=\"fill:#ff0000;stroke:#ff0000;\" x=\"104.963795\" xlink:href=\"#C0_0_1ac44f38da\" y=\"205.490174\"/>\n    </g>\n    <g clip-path=\"url(#p97515121aa)\">\n     <use style=\"fill:#ff0000;stroke:#ff0000;\" x=\"138.61446\" xlink:href=\"#C0_0_1ac44f38da\" y=\"189.204688\"/>\n    </g>\n    <g clip-path=\"url(#p97515121aa)\">\n     <use style=\"fill:#ff0000;stroke:#ff0000;\" x=\"71.313129\" xlink:href=\"#C0_0_1ac44f38da\" y=\"197.347431\"/>\n    </g>\n    <g clip-path=\"url(#p97515121aa)\">\n     <use style=\"fill:#ff0000;stroke:#ff0000;\" x=\"104.963795\" xlink:href=\"#C0_0_1ac44f38da\" y=\"205.490174\"/>\n    </g>\n    <g clip-path=\"url(#p97515121aa)\">\n     <use style=\"fill:#ff0000;stroke:#ff0000;\" x=\"54.487796\" xlink:href=\"#C0_0_1ac44f38da\" y=\"205.490174\"/>\n    </g>\n    <g clip-path=\"url(#p97515121aa)\">\n     <use style=\"fill:#ff0000;stroke:#ff0000;\" x=\"96.551128\" xlink:href=\"#C0_0_1ac44f38da\" y=\"213.632917\"/>\n    </g>\n    <g clip-path=\"url(#p97515121aa)\">\n     <use style=\"fill:#ff0000;stroke:#ff0000;\" x=\"138.61446\" xlink:href=\"#C0_0_1ac44f38da\" y=\"205.490174\"/>\n    </g>\n    <g clip-path=\"url(#p97515121aa)\">\n     <use style=\"fill:#ff0000;stroke:#ff0000;\" x=\"88.138462\" xlink:href=\"#C0_0_1ac44f38da\" y=\"205.490174\"/>\n    </g>\n    <g clip-path=\"url(#p97515121aa)\">\n     <use style=\"fill:#ff0000;stroke:#ff0000;\" x=\"88.138462\" xlink:href=\"#C0_0_1ac44f38da\" y=\"213.632917\"/>\n    </g>\n    <g clip-path=\"url(#p97515121aa)\">\n     <use style=\"fill:#ff0000;stroke:#ff0000;\" x=\"46.07513\" xlink:href=\"#C0_0_1ac44f38da\" y=\"213.632917\"/>\n    </g>\n    <g clip-path=\"url(#p97515121aa)\">\n     <use style=\"fill:#ff0000;stroke:#ff0000;\" x=\"172.265126\" xlink:href=\"#C0_0_1ac44f38da\" y=\"205.490174\"/>\n    </g>\n    <g clip-path=\"url(#p97515121aa)\">\n     <use style=\"fill:#ff0000;stroke:#ff0000;\" x=\"163.852459\" xlink:href=\"#C0_0_1ac44f38da\" y=\"189.204688\"/>\n    </g>\n    <g clip-path=\"url(#p97515121aa)\">\n     <use style=\"fill:#ff0000;stroke:#ff0000;\" x=\"138.61446\" xlink:href=\"#C0_0_1ac44f38da\" y=\"189.204688\"/>\n    </g>\n    <g clip-path=\"url(#p97515121aa)\">\n     <use style=\"fill:#ff0000;stroke:#ff0000;\" x=\"113.376461\" xlink:href=\"#C0_0_1ac44f38da\" y=\"197.347431\"/>\n    </g>\n    <g clip-path=\"url(#p97515121aa)\">\n     <use style=\"fill:#ff0000;stroke:#ff0000;\" x=\"163.852459\" xlink:href=\"#C0_0_1ac44f38da\" y=\"197.347431\"/>\n    </g>\n    <g clip-path=\"url(#p97515121aa)\">\n     <use style=\"fill:#ff0000;stroke:#ff0000;\" x=\"113.376461\" xlink:href=\"#C0_0_1ac44f38da\" y=\"197.347431\"/>\n    </g>\n    <g clip-path=\"url(#p97515121aa)\">\n     <use style=\"fill:#ff0000;stroke:#ff0000;\" x=\"138.61446\" xlink:href=\"#C0_0_1ac44f38da\" y=\"205.490174\"/>\n    </g>\n    <g clip-path=\"url(#p97515121aa)\">\n     <use style=\"fill:#ff0000;stroke:#ff0000;\" x=\"113.376461\" xlink:href=\"#C0_0_1ac44f38da\" y=\"189.204688\"/>\n    </g>\n    <g clip-path=\"url(#p97515121aa)\">\n     <use style=\"fill:#ff0000;stroke:#ff0000;\" x=\"71.313129\" xlink:href=\"#C0_0_1ac44f38da\" y=\"205.490174\"/>\n    </g>\n    <g clip-path=\"url(#p97515121aa)\">\n     <use style=\"fill:#ff0000;stroke:#ff0000;\" x=\"113.376461\" xlink:href=\"#C0_0_1ac44f38da\" y=\"181.061944\"/>\n    </g>\n    <g clip-path=\"url(#p97515121aa)\">\n     <use style=\"fill:#ff0000;stroke:#ff0000;\" x=\"88.138462\" xlink:href=\"#C0_0_1ac44f38da\" y=\"205.490174\"/>\n    </g>\n    <g clip-path=\"url(#p97515121aa)\">\n     <use style=\"fill:#ff0000;stroke:#ff0000;\" x=\"104.963795\" xlink:href=\"#C0_0_1ac44f38da\" y=\"205.490174\"/>\n    </g>\n    <g clip-path=\"url(#p97515121aa)\">\n     <use style=\"fill:#ff0000;stroke:#ff0000;\" x=\"104.963795\" xlink:href=\"#C0_0_1ac44f38da\" y=\"189.204688\"/>\n    </g>\n    <g clip-path=\"url(#p97515121aa)\">\n     <use style=\"fill:#ff0000;stroke:#ff0000;\" x=\"121.789127\" xlink:href=\"#C0_0_1ac44f38da\" y=\"205.490174\"/>\n    </g>\n    <g clip-path=\"url(#p97515121aa)\">\n     <use style=\"fill:#ff0000;stroke:#ff0000;\" x=\"121.789127\" xlink:href=\"#C0_0_1ac44f38da\" y=\"205.490174\"/>\n    </g>\n    <g clip-path=\"url(#p97515121aa)\">\n     <use style=\"fill:#ff0000;stroke:#ff0000;\" x=\"79.725796\" xlink:href=\"#C0_0_1ac44f38da\" y=\"205.490174\"/>\n    </g>\n    <g clip-path=\"url(#p97515121aa)\">\n     <use style=\"fill:#ff0000;stroke:#ff0000;\" x=\"88.138462\" xlink:href=\"#C0_0_1ac44f38da\" y=\"205.490174\"/>\n    </g>\n    <g clip-path=\"url(#p97515121aa)\">\n     <use style=\"fill:#ff0000;stroke:#ff0000;\" x=\"138.61446\" xlink:href=\"#C0_0_1ac44f38da\" y=\"189.204688\"/>\n    </g>\n    <g clip-path=\"url(#p97515121aa)\">\n     <use style=\"fill:#ff0000;stroke:#ff0000;\" x=\"121.789127\" xlink:href=\"#C0_0_1ac44f38da\" y=\"213.632917\"/>\n    </g>\n    <g clip-path=\"url(#p97515121aa)\">\n     <use style=\"fill:#ff0000;stroke:#ff0000;\" x=\"147.027127\" xlink:href=\"#C0_0_1ac44f38da\" y=\"205.490174\"/>\n    </g>\n    <g clip-path=\"url(#p97515121aa)\">\n     <use style=\"fill:#ff0000;stroke:#ff0000;\" x=\"96.551128\" xlink:href=\"#C0_0_1ac44f38da\" y=\"213.632917\"/>\n    </g>\n    <g clip-path=\"url(#p97515121aa)\">\n     <use style=\"fill:#ff0000;stroke:#ff0000;\" x=\"104.963795\" xlink:href=\"#C0_0_1ac44f38da\" y=\"205.490174\"/>\n    </g>\n    <g clip-path=\"url(#p97515121aa)\">\n     <use style=\"fill:#ff0000;stroke:#ff0000;\" x=\"147.027127\" xlink:href=\"#C0_0_1ac44f38da\" y=\"205.490174\"/>\n    </g>\n    <g clip-path=\"url(#p97515121aa)\">\n     <use style=\"fill:#ff0000;stroke:#ff0000;\" x=\"96.551128\" xlink:href=\"#C0_0_1ac44f38da\" y=\"213.632917\"/>\n    </g>\n    <g clip-path=\"url(#p97515121aa)\">\n     <use style=\"fill:#ff0000;stroke:#ff0000;\" x=\"54.487796\" xlink:href=\"#C0_0_1ac44f38da\" y=\"205.490174\"/>\n    </g>\n    <g clip-path=\"url(#p97515121aa)\">\n     <use style=\"fill:#ff0000;stroke:#ff0000;\" x=\"113.376461\" xlink:href=\"#C0_0_1ac44f38da\" y=\"205.490174\"/>\n    </g>\n    <g clip-path=\"url(#p97515121aa)\">\n     <use style=\"fill:#ff0000;stroke:#ff0000;\" x=\"104.963795\" xlink:href=\"#C0_0_1ac44f38da\" y=\"197.347431\"/>\n    </g>\n    <g clip-path=\"url(#p97515121aa)\">\n     <use style=\"fill:#ff0000;stroke:#ff0000;\" x=\"62.900463\" xlink:href=\"#C0_0_1ac44f38da\" y=\"197.347431\"/>\n    </g>\n    <g clip-path=\"url(#p97515121aa)\">\n     <use style=\"fill:#ff0000;stroke:#ff0000;\" x=\"54.487796\" xlink:href=\"#C0_0_1ac44f38da\" y=\"205.490174\"/>\n    </g>\n    <g clip-path=\"url(#p97515121aa)\">\n     <use style=\"fill:#ff0000;stroke:#ff0000;\" x=\"104.963795\" xlink:href=\"#C0_0_1ac44f38da\" y=\"172.919201\"/>\n    </g>\n    <g clip-path=\"url(#p97515121aa)\">\n     <use style=\"fill:#ff0000;stroke:#ff0000;\" x=\"113.376461\" xlink:href=\"#C0_0_1ac44f38da\" y=\"189.204688\"/>\n    </g>\n    <g clip-path=\"url(#p97515121aa)\">\n     <use style=\"fill:#ff0000;stroke:#ff0000;\" x=\"88.138462\" xlink:href=\"#C0_0_1ac44f38da\" y=\"197.347431\"/>\n    </g>\n    <g clip-path=\"url(#p97515121aa)\">\n     <use style=\"fill:#ff0000;stroke:#ff0000;\" x=\"113.376461\" xlink:href=\"#C0_0_1ac44f38da\" y=\"205.490174\"/>\n    </g>\n    <g clip-path=\"url(#p97515121aa)\">\n     <use style=\"fill:#ff0000;stroke:#ff0000;\" x=\"71.313129\" xlink:href=\"#C0_0_1ac44f38da\" y=\"205.490174\"/>\n    </g>\n    <g clip-path=\"url(#p97515121aa)\">\n     <use style=\"fill:#ff0000;stroke:#ff0000;\" x=\"130.201794\" xlink:href=\"#C0_0_1ac44f38da\" y=\"205.490174\"/>\n    </g>\n    <g clip-path=\"url(#p97515121aa)\">\n     <use style=\"fill:#ff0000;stroke:#ff0000;\" x=\"104.963795\" xlink:href=\"#C0_0_1ac44f38da\" y=\"205.490174\"/>\n    </g>\n    <g clip-path=\"url(#p97515121aa)\">\n     <use style=\"fill:#008000;stroke:#008000;\" x=\"273.217123\" xlink:href=\"#C0_0_1ac44f38da\" y=\"107.777257\"/>\n    </g>\n    <g clip-path=\"url(#p97515121aa)\">\n     <use style=\"fill:#008000;stroke:#008000;\" x=\"222.741124\" xlink:href=\"#C0_0_1ac44f38da\" y=\"99.634514\"/>\n    </g>\n    <g clip-path=\"url(#p97515121aa)\">\n     <use style=\"fill:#008000;stroke:#008000;\" x=\"264.804456\" xlink:href=\"#C0_0_1ac44f38da\" y=\"99.634514\"/>\n    </g>\n    <g clip-path=\"url(#p97515121aa)\">\n     <use style=\"fill:#008000;stroke:#008000;\" x=\"147.027127\" xlink:href=\"#C0_0_1ac44f38da\" y=\"115.92\"/>\n    </g>\n    <g clip-path=\"url(#p97515121aa)\">\n     <use style=\"fill:#008000;stroke:#008000;\" x=\"231.153791\" xlink:href=\"#C0_0_1ac44f38da\" y=\"99.634514\"/>\n    </g>\n    <g clip-path=\"url(#p97515121aa)\">\n     <use style=\"fill:#008000;stroke:#008000;\" x=\"163.852459\" xlink:href=\"#C0_0_1ac44f38da\" y=\"115.92\"/>\n    </g>\n    <g clip-path=\"url(#p97515121aa)\">\n     <use style=\"fill:#008000;stroke:#008000;\" x=\"214.328458\" xlink:href=\"#C0_0_1ac44f38da\" y=\"91.491771\"/>\n    </g>\n    <g clip-path=\"url(#p97515121aa)\">\n     <use style=\"fill:#008000;stroke:#008000;\" x=\"96.551128\" xlink:href=\"#C0_0_1ac44f38da\" y=\"140.348229\"/>\n    </g>\n    <g clip-path=\"url(#p97515121aa)\">\n     <use style=\"fill:#008000;stroke:#008000;\" x=\"239.566457\" xlink:href=\"#C0_0_1ac44f38da\" y=\"115.92\"/>\n    </g>\n    <g clip-path=\"url(#p97515121aa)\">\n     <use style=\"fill:#008000;stroke:#008000;\" x=\"121.789127\" xlink:href=\"#C0_0_1ac44f38da\" y=\"107.777257\"/>\n    </g>\n    <g clip-path=\"url(#p97515121aa)\">\n     <use style=\"fill:#008000;stroke:#008000;\" x=\"104.963795\" xlink:href=\"#C0_0_1ac44f38da\" y=\"140.348229\"/>\n    </g>\n    <g clip-path=\"url(#p97515121aa)\">\n     <use style=\"fill:#008000;stroke:#008000;\" x=\"180.677792\" xlink:href=\"#C0_0_1ac44f38da\" y=\"99.634514\"/>\n    </g>\n    <g clip-path=\"url(#p97515121aa)\">\n     <use style=\"fill:#008000;stroke:#008000;\" x=\"189.090459\" xlink:href=\"#C0_0_1ac44f38da\" y=\"140.348229\"/>\n    </g>\n    <g clip-path=\"url(#p97515121aa)\">\n     <use style=\"fill:#008000;stroke:#008000;\" x=\"197.503125\" xlink:href=\"#C0_0_1ac44f38da\" y=\"107.777257\"/>\n    </g>\n    <g clip-path=\"url(#p97515121aa)\">\n     <use style=\"fill:#008000;stroke:#008000;\" x=\"155.439793\" xlink:href=\"#C0_0_1ac44f38da\" y=\"115.92\"/>\n    </g>\n    <g clip-path=\"url(#p97515121aa)\">\n     <use style=\"fill:#008000;stroke:#008000;\" x=\"247.979123\" xlink:href=\"#C0_0_1ac44f38da\" y=\"107.777257\"/>\n    </g>\n    <g clip-path=\"url(#p97515121aa)\">\n     <use style=\"fill:#008000;stroke:#008000;\" x=\"155.439793\" xlink:href=\"#C0_0_1ac44f38da\" y=\"99.634514\"/>\n    </g>\n    <g clip-path=\"url(#p97515121aa)\">\n     <use style=\"fill:#008000;stroke:#008000;\" x=\"172.265126\" xlink:href=\"#C0_0_1ac44f38da\" y=\"140.348229\"/>\n    </g>\n    <g clip-path=\"url(#p97515121aa)\">\n     <use style=\"fill:#008000;stroke:#008000;\" x=\"205.915791\" xlink:href=\"#C0_0_1ac44f38da\" y=\"99.634514\"/>\n    </g>\n    <g clip-path=\"url(#p97515121aa)\">\n     <use style=\"fill:#008000;stroke:#008000;\" x=\"155.439793\" xlink:href=\"#C0_0_1ac44f38da\" y=\"132.205486\"/>\n    </g>\n    <g clip-path=\"url(#p97515121aa)\">\n     <use style=\"fill:#008000;stroke:#008000;\" x=\"180.677792\" xlink:href=\"#C0_0_1ac44f38da\" y=\"75.206285\"/>\n    </g>\n    <g clip-path=\"url(#p97515121aa)\">\n     <use style=\"fill:#008000;stroke:#008000;\" x=\"197.503125\" xlink:href=\"#C0_0_1ac44f38da\" y=\"115.92\"/>\n    </g>\n    <g clip-path=\"url(#p97515121aa)\">\n     <use style=\"fill:#008000;stroke:#008000;\" x=\"214.328458\" xlink:href=\"#C0_0_1ac44f38da\" y=\"99.634514\"/>\n    </g>\n    <g clip-path=\"url(#p97515121aa)\">\n     <use style=\"fill:#008000;stroke:#008000;\" x=\"197.503125\" xlink:href=\"#C0_0_1ac44f38da\" y=\"124.062743\"/>\n    </g>\n    <g clip-path=\"url(#p97515121aa)\">\n     <use style=\"fill:#008000;stroke:#008000;\" x=\"222.741124\" xlink:href=\"#C0_0_1ac44f38da\" y=\"115.92\"/>\n    </g>\n    <g clip-path=\"url(#p97515121aa)\">\n     <use style=\"fill:#008000;stroke:#008000;\" x=\"239.566457\" xlink:href=\"#C0_0_1ac44f38da\" y=\"107.777257\"/>\n    </g>\n    <g clip-path=\"url(#p97515121aa)\">\n     <use style=\"fill:#008000;stroke:#008000;\" x=\"256.39179\" xlink:href=\"#C0_0_1ac44f38da\" y=\"107.777257\"/>\n    </g>\n    <g clip-path=\"url(#p97515121aa)\">\n     <use style=\"fill:#008000;stroke:#008000;\" x=\"247.979123\" xlink:href=\"#C0_0_1ac44f38da\" y=\"83.349028\"/>\n    </g>\n    <g clip-path=\"url(#p97515121aa)\">\n     <use style=\"fill:#008000;stroke:#008000;\" x=\"189.090459\" xlink:href=\"#C0_0_1ac44f38da\" y=\"99.634514\"/>\n    </g>\n    <g clip-path=\"url(#p97515121aa)\">\n     <use style=\"fill:#008000;stroke:#008000;\" x=\"163.852459\" xlink:href=\"#C0_0_1ac44f38da\" y=\"140.348229\"/>\n    </g>\n    <g clip-path=\"url(#p97515121aa)\">\n     <use style=\"fill:#008000;stroke:#008000;\" x=\"147.027127\" xlink:href=\"#C0_0_1ac44f38da\" y=\"132.205486\"/>\n    </g>\n    <g clip-path=\"url(#p97515121aa)\">\n     <use style=\"fill:#008000;stroke:#008000;\" x=\"147.027127\" xlink:href=\"#C0_0_1ac44f38da\" y=\"140.348229\"/>\n    </g>\n    <g clip-path=\"url(#p97515121aa)\">\n     <use style=\"fill:#008000;stroke:#008000;\" x=\"172.265126\" xlink:href=\"#C0_0_1ac44f38da\" y=\"124.062743\"/>\n    </g>\n    <g clip-path=\"url(#p97515121aa)\">\n     <use style=\"fill:#008000;stroke:#008000;\" x=\"189.090459\" xlink:href=\"#C0_0_1ac44f38da\" y=\"91.491771\"/>\n    </g>\n    <g clip-path=\"url(#p97515121aa)\">\n     <use style=\"fill:#008000;stroke:#008000;\" x=\"138.61446\" xlink:href=\"#C0_0_1ac44f38da\" y=\"99.634514\"/>\n    </g>\n    <g clip-path=\"url(#p97515121aa)\">\n     <use style=\"fill:#008000;stroke:#008000;\" x=\"189.090459\" xlink:href=\"#C0_0_1ac44f38da\" y=\"91.491771\"/>\n    </g>\n    <g clip-path=\"url(#p97515121aa)\">\n     <use style=\"fill:#008000;stroke:#008000;\" x=\"247.979123\" xlink:href=\"#C0_0_1ac44f38da\" y=\"99.634514\"/>\n    </g>\n    <g clip-path=\"url(#p97515121aa)\">\n     <use style=\"fill:#008000;stroke:#008000;\" x=\"214.328458\" xlink:href=\"#C0_0_1ac44f38da\" y=\"115.92\"/>\n    </g>\n    <g clip-path=\"url(#p97515121aa)\">\n     <use style=\"fill:#008000;stroke:#008000;\" x=\"155.439793\" xlink:href=\"#C0_0_1ac44f38da\" y=\"115.92\"/>\n    </g>\n    <g clip-path=\"url(#p97515121aa)\">\n     <use style=\"fill:#008000;stroke:#008000;\" x=\"147.027127\" xlink:href=\"#C0_0_1ac44f38da\" y=\"115.92\"/>\n    </g>\n    <g clip-path=\"url(#p97515121aa)\">\n     <use style=\"fill:#008000;stroke:#008000;\" x=\"147.027127\" xlink:href=\"#C0_0_1ac44f38da\" y=\"124.062743\"/>\n    </g>\n    <g clip-path=\"url(#p97515121aa)\">\n     <use style=\"fill:#008000;stroke:#008000;\" x=\"197.503125\" xlink:href=\"#C0_0_1ac44f38da\" y=\"107.777257\"/>\n    </g>\n    <g clip-path=\"url(#p97515121aa)\">\n     <use style=\"fill:#008000;stroke:#008000;\" x=\"172.265126\" xlink:href=\"#C0_0_1ac44f38da\" y=\"124.062743\"/>\n    </g>\n    <g clip-path=\"url(#p97515121aa)\">\n     <use style=\"fill:#008000;stroke:#008000;\" x=\"104.963795\" xlink:href=\"#C0_0_1ac44f38da\" y=\"140.348229\"/>\n    </g>\n    <g clip-path=\"url(#p97515121aa)\">\n     <use style=\"fill:#008000;stroke:#008000;\" x=\"155.439793\" xlink:href=\"#C0_0_1ac44f38da\" y=\"115.92\"/>\n    </g>\n    <g clip-path=\"url(#p97515121aa)\">\n     <use style=\"fill:#008000;stroke:#008000;\" x=\"163.852459\" xlink:href=\"#C0_0_1ac44f38da\" y=\"124.062743\"/>\n    </g>\n    <g clip-path=\"url(#p97515121aa)\">\n     <use style=\"fill:#008000;stroke:#008000;\" x=\"163.852459\" xlink:href=\"#C0_0_1ac44f38da\" y=\"115.92\"/>\n    </g>\n    <g clip-path=\"url(#p97515121aa)\">\n     <use style=\"fill:#008000;stroke:#008000;\" x=\"205.915791\" xlink:href=\"#C0_0_1ac44f38da\" y=\"115.92\"/>\n    </g>\n    <g clip-path=\"url(#p97515121aa)\">\n     <use style=\"fill:#008000;stroke:#008000;\" x=\"113.376461\" xlink:href=\"#C0_0_1ac44f38da\" y=\"132.205486\"/>\n    </g>\n    <g clip-path=\"url(#p97515121aa)\">\n     <use style=\"fill:#008000;stroke:#008000;\" x=\"163.852459\" xlink:href=\"#C0_0_1ac44f38da\" y=\"115.92\"/>\n    </g>\n    <g clip-path=\"url(#p97515121aa)\">\n     <use style=\"fill:#0000ff;stroke:#0000ff;\" x=\"214.328458\" xlink:href=\"#C0_0_1ac44f38da\" y=\"18.207083\"/>\n    </g>\n    <g clip-path=\"url(#p97515121aa)\">\n     <use style=\"fill:#0000ff;stroke:#0000ff;\" x=\"172.265126\" xlink:href=\"#C0_0_1ac44f38da\" y=\"67.063542\"/>\n    </g>\n    <g clip-path=\"url(#p97515121aa)\">\n     <use style=\"fill:#0000ff;stroke:#0000ff;\" x=\"281.629789\" xlink:href=\"#C0_0_1ac44f38da\" y=\"50.778056\"/>\n    </g>\n    <g clip-path=\"url(#p97515121aa)\">\n     <use style=\"fill:#0000ff;stroke:#0000ff;\" x=\"214.328458\" xlink:href=\"#C0_0_1ac44f38da\" y=\"75.206285\"/>\n    </g>\n    <g clip-path=\"url(#p97515121aa)\">\n     <use style=\"fill:#0000ff;stroke:#0000ff;\" x=\"231.153791\" xlink:href=\"#C0_0_1ac44f38da\" y=\"42.635312\"/>\n    </g>\n    <g clip-path=\"url(#p97515121aa)\">\n     <use style=\"fill:#0000ff;stroke:#0000ff;\" x=\"323.693121\" xlink:href=\"#C0_0_1ac44f38da\" y=\"50.778056\"/>\n    </g>\n    <g clip-path=\"url(#p97515121aa)\">\n     <use style=\"fill:#0000ff;stroke:#0000ff;\" x=\"96.551128\" xlink:href=\"#C0_0_1ac44f38da\" y=\"83.349028\"/>\n    </g>\n    <g clip-path=\"url(#p97515121aa)\">\n     <use style=\"fill:#0000ff;stroke:#0000ff;\" x=\"298.455122\" xlink:href=\"#C0_0_1ac44f38da\" y=\"75.206285\"/>\n    </g>\n    <g clip-path=\"url(#p97515121aa)\">\n     <use style=\"fill:#0000ff;stroke:#0000ff;\" x=\"247.979123\" xlink:href=\"#C0_0_1ac44f38da\" y=\"75.206285\"/>\n    </g>\n    <g clip-path=\"url(#p97515121aa)\">\n     <use style=\"fill:#0000ff;stroke:#0000ff;\" x=\"290.042455\" xlink:href=\"#C0_0_1ac44f38da\" y=\"18.207083\"/>\n    </g>\n    <g clip-path=\"url(#p97515121aa)\">\n     <use style=\"fill:#0000ff;stroke:#0000ff;\" x=\"231.153791\" xlink:href=\"#C0_0_1ac44f38da\" y=\"58.920799\"/>\n    </g>\n    <g clip-path=\"url(#p97515121aa)\">\n     <use style=\"fill:#0000ff;stroke:#0000ff;\" x=\"222.741124\" xlink:href=\"#C0_0_1ac44f38da\" y=\"67.063542\"/>\n    </g>\n    <g clip-path=\"url(#p97515121aa)\">\n     <use style=\"fill:#0000ff;stroke:#0000ff;\" x=\"256.39179\" xlink:href=\"#C0_0_1ac44f38da\" y=\"50.778056\"/>\n    </g>\n    <g clip-path=\"url(#p97515121aa)\">\n     <use style=\"fill:#0000ff;stroke:#0000ff;\" x=\"163.852459\" xlink:href=\"#C0_0_1ac44f38da\" y=\"58.920799\"/>\n    </g>\n    <g clip-path=\"url(#p97515121aa)\">\n     <use style=\"fill:#0000ff;stroke:#0000ff;\" x=\"172.265126\" xlink:href=\"#C0_0_1ac44f38da\" y=\"26.349826\"/>\n    </g>\n    <g clip-path=\"url(#p97515121aa)\">\n     <use style=\"fill:#0000ff;stroke:#0000ff;\" x=\"222.741124\" xlink:href=\"#C0_0_1ac44f38da\" y=\"34.492569\"/>\n    </g>\n    <g clip-path=\"url(#p97515121aa)\">\n     <use style=\"fill:#0000ff;stroke:#0000ff;\" x=\"231.153791\" xlink:href=\"#C0_0_1ac44f38da\" y=\"75.206285\"/>\n    </g>\n    <g clip-path=\"url(#p97515121aa)\">\n     <use style=\"fill:#0000ff;stroke:#0000ff;\" x=\"332.105787\" xlink:href=\"#C0_0_1ac44f38da\" y=\"42.635312\"/>\n    </g>\n    <g clip-path=\"url(#p97515121aa)\">\n     <use style=\"fill:#0000ff;stroke:#0000ff;\" x=\"332.105787\" xlink:href=\"#C0_0_1ac44f38da\" y=\"34.492569\"/>\n    </g>\n    <g clip-path=\"url(#p97515121aa)\">\n     <use style=\"fill:#0000ff;stroke:#0000ff;\" x=\"189.090459\" xlink:href=\"#C0_0_1ac44f38da\" y=\"99.634514\"/>\n    </g>\n    <g clip-path=\"url(#p97515121aa)\">\n     <use style=\"fill:#0000ff;stroke:#0000ff;\" x=\"264.804456\" xlink:href=\"#C0_0_1ac44f38da\" y=\"34.492569\"/>\n    </g>\n    <g clip-path=\"url(#p97515121aa)\">\n     <use style=\"fill:#0000ff;stroke:#0000ff;\" x=\"155.439793\" xlink:href=\"#C0_0_1ac44f38da\" y=\"58.920799\"/>\n    </g>\n    <g clip-path=\"url(#p97515121aa)\">\n     <use style=\"fill:#0000ff;stroke:#0000ff;\" x=\"332.105787\" xlink:href=\"#C0_0_1ac44f38da\" y=\"58.920799\"/>\n    </g>\n    <g clip-path=\"url(#p97515121aa)\">\n     <use style=\"fill:#0000ff;stroke:#0000ff;\" x=\"214.328458\" xlink:href=\"#C0_0_1ac44f38da\" y=\"75.206285\"/>\n    </g>\n    <g clip-path=\"url(#p97515121aa)\">\n     <use style=\"fill:#0000ff;stroke:#0000ff;\" x=\"247.979123\" xlink:href=\"#C0_0_1ac44f38da\" y=\"50.778056\"/>\n    </g>\n    <g clip-path=\"url(#p97515121aa)\">\n     <use style=\"fill:#0000ff;stroke:#0000ff;\" x=\"290.042455\" xlink:href=\"#C0_0_1ac44f38da\" y=\"75.206285\"/>\n    </g>\n    <g clip-path=\"url(#p97515121aa)\">\n     <use style=\"fill:#0000ff;stroke:#0000ff;\" x=\"205.915791\" xlink:href=\"#C0_0_1ac44f38da\" y=\"75.206285\"/>\n    </g>\n    <g clip-path=\"url(#p97515121aa)\">\n     <use style=\"fill:#0000ff;stroke:#0000ff;\" x=\"197.503125\" xlink:href=\"#C0_0_1ac44f38da\" y=\"75.206285\"/>\n    </g>\n    <g clip-path=\"url(#p97515121aa)\">\n     <use style=\"fill:#0000ff;stroke:#0000ff;\" x=\"222.741124\" xlink:href=\"#C0_0_1ac44f38da\" y=\"50.778056\"/>\n    </g>\n    <g clip-path=\"url(#p97515121aa)\">\n     <use style=\"fill:#0000ff;stroke:#0000ff;\" x=\"290.042455\" xlink:href=\"#C0_0_1ac44f38da\" y=\"91.491771\"/>\n    </g>\n    <g clip-path=\"url(#p97515121aa)\">\n     <use style=\"fill:#0000ff;stroke:#0000ff;\" x=\"306.867788\" xlink:href=\"#C0_0_1ac44f38da\" y=\"67.063542\"/>\n    </g>\n    <g clip-path=\"url(#p97515121aa)\">\n     <use style=\"fill:#0000ff;stroke:#0000ff;\" x=\"348.93112\" xlink:href=\"#C0_0_1ac44f38da\" y=\"58.920799\"/>\n    </g>\n    <g clip-path=\"url(#p97515121aa)\">\n     <use style=\"fill:#0000ff;stroke:#0000ff;\" x=\"222.741124\" xlink:href=\"#C0_0_1ac44f38da\" y=\"42.635312\"/>\n    </g>\n    <g clip-path=\"url(#p97515121aa)\">\n     <use style=\"fill:#0000ff;stroke:#0000ff;\" x=\"214.328458\" xlink:href=\"#C0_0_1ac44f38da\" y=\"99.634514\"/>\n    </g>\n    <g clip-path=\"url(#p97515121aa)\">\n     <use style=\"fill:#0000ff;stroke:#0000ff;\" x=\"197.503125\" xlink:href=\"#C0_0_1ac44f38da\" y=\"107.777257\"/>\n    </g>\n    <g clip-path=\"url(#p97515121aa)\">\n     <use style=\"fill:#0000ff;stroke:#0000ff;\" x=\"332.105787\" xlink:href=\"#C0_0_1ac44f38da\" y=\"34.492569\"/>\n    </g>\n    <g clip-path=\"url(#p97515121aa)\">\n     <use style=\"fill:#0000ff;stroke:#0000ff;\" x=\"214.328458\" xlink:href=\"#C0_0_1ac44f38da\" y=\"26.349826\"/>\n    </g>\n    <g clip-path=\"url(#p97515121aa)\">\n     <use style=\"fill:#0000ff;stroke:#0000ff;\" x=\"222.741124\" xlink:href=\"#C0_0_1ac44f38da\" y=\"75.206285\"/>\n    </g>\n    <g clip-path=\"url(#p97515121aa)\">\n     <use style=\"fill:#0000ff;stroke:#0000ff;\" x=\"189.090459\" xlink:href=\"#C0_0_1ac44f38da\" y=\"75.206285\"/>\n    </g>\n    <g clip-path=\"url(#p97515121aa)\">\n     <use style=\"fill:#0000ff;stroke:#0000ff;\" x=\"264.804456\" xlink:href=\"#C0_0_1ac44f38da\" y=\"50.778056\"/>\n    </g>\n    <g clip-path=\"url(#p97515121aa)\">\n     <use style=\"fill:#0000ff;stroke:#0000ff;\" x=\"247.979123\" xlink:href=\"#C0_0_1ac44f38da\" y=\"26.349826\"/>\n    </g>\n    <g clip-path=\"url(#p97515121aa)\">\n     <use style=\"fill:#0000ff;stroke:#0000ff;\" x=\"264.804456\" xlink:href=\"#C0_0_1ac44f38da\" y=\"34.492569\"/>\n    </g>\n    <g clip-path=\"url(#p97515121aa)\">\n     <use style=\"fill:#0000ff;stroke:#0000ff;\" x=\"172.265126\" xlink:href=\"#C0_0_1ac44f38da\" y=\"67.063542\"/>\n    </g>\n    <g clip-path=\"url(#p97515121aa)\">\n     <use style=\"fill:#0000ff;stroke:#0000ff;\" x=\"256.39179\" xlink:href=\"#C0_0_1ac44f38da\" y=\"34.492569\"/>\n    </g>\n    <g clip-path=\"url(#p97515121aa)\">\n     <use style=\"fill:#0000ff;stroke:#0000ff;\" x=\"247.979123\" xlink:href=\"#C0_0_1ac44f38da\" y=\"18.207083\"/>\n    </g>\n    <g clip-path=\"url(#p97515121aa)\">\n     <use style=\"fill:#0000ff;stroke:#0000ff;\" x=\"247.979123\" xlink:href=\"#C0_0_1ac44f38da\" y=\"34.492569\"/>\n    </g>\n    <g clip-path=\"url(#p97515121aa)\">\n     <use style=\"fill:#0000ff;stroke:#0000ff;\" x=\"214.328458\" xlink:href=\"#C0_0_1ac44f38da\" y=\"67.063542\"/>\n    </g>\n    <g clip-path=\"url(#p97515121aa)\">\n     <use style=\"fill:#0000ff;stroke:#0000ff;\" x=\"231.153791\" xlink:href=\"#C0_0_1ac44f38da\" y=\"58.920799\"/>\n    </g>\n    <g clip-path=\"url(#p97515121aa)\">\n     <use style=\"fill:#0000ff;stroke:#0000ff;\" x=\"205.915791\" xlink:href=\"#C0_0_1ac44f38da\" y=\"34.492569\"/>\n    </g>\n    <g clip-path=\"url(#p97515121aa)\">\n     <use style=\"fill:#0000ff;stroke:#0000ff;\" x=\"180.677792\" xlink:href=\"#C0_0_1ac44f38da\" y=\"75.206285\"/>\n    </g>\n   </g>\n   <g id=\"matplotlib.axis_1\">\n    <g id=\"xtick_1\">\n     <g id=\"line2d_1\">\n      <defs>\n       <path d=\"M 0 0 \nL 0 3.5 \n\" id=\"m1dddb5729e\" style=\"stroke:#000000;stroke-width:0.8;\"/>\n      </defs>\n      <g>\n       <use style=\"stroke:#000000;stroke-width:0.8;\" x=\"62.900463\" xlink:href=\"#m1dddb5729e\" y=\"224.64\"/>\n      </g>\n     </g>\n     <g id=\"text_1\">\n      <!-- 4.5 -->\n      <defs>\n       <path d=\"M 37.796875 64.3125 \nL 12.890625 25.390625 \nL 37.796875 25.390625 \nz\nM 35.203125 72.90625 \nL 47.609375 72.90625 \nL 47.609375 25.390625 \nL 58.015625 25.390625 \nL 58.015625 17.1875 \nL 47.609375 17.1875 \nL 47.609375 0 \nL 37.796875 0 \nL 37.796875 17.1875 \nL 4.890625 17.1875 \nL 4.890625 26.703125 \nz\n\" id=\"DejaVuSans-52\"/>\n       <path d=\"M 10.6875 12.40625 \nL 21 12.40625 \nL 21 0 \nL 10.6875 0 \nz\n\" id=\"DejaVuSans-46\"/>\n       <path d=\"M 10.796875 72.90625 \nL 49.515625 72.90625 \nL 49.515625 64.59375 \nL 19.828125 64.59375 \nL 19.828125 46.734375 \nQ 21.96875 47.46875 24.109375 47.828125 \nQ 26.265625 48.1875 28.421875 48.1875 \nQ 40.625 48.1875 47.75 41.5 \nQ 54.890625 34.8125 54.890625 23.390625 \nQ 54.890625 11.625 47.5625 5.09375 \nQ 40.234375 -1.421875 26.90625 -1.421875 \nQ 22.3125 -1.421875 17.546875 -0.640625 \nQ 12.796875 0.140625 7.71875 1.703125 \nL 7.71875 11.625 \nQ 12.109375 9.234375 16.796875 8.0625 \nQ 21.484375 6.890625 26.703125 6.890625 \nQ 35.15625 6.890625 40.078125 11.328125 \nQ 45.015625 15.765625 45.015625 23.390625 \nQ 45.015625 31 40.078125 35.4375 \nQ 35.15625 39.890625 26.703125 39.890625 \nQ 22.75 39.890625 18.8125 39.015625 \nQ 14.890625 38.140625 10.796875 36.28125 \nz\n\" id=\"DejaVuSans-53\"/>\n      </defs>\n      <g transform=\"translate(54.9489 239.238437)scale(0.1 -0.1)\">\n       <use xlink:href=\"#DejaVuSans-52\"/>\n       <use x=\"63.623047\" xlink:href=\"#DejaVuSans-46\"/>\n       <use x=\"95.410156\" xlink:href=\"#DejaVuSans-53\"/>\n      </g>\n     </g>\n    </g>\n    <g id=\"xtick_2\">\n     <g id=\"line2d_2\">\n      <g>\n       <use style=\"stroke:#000000;stroke-width:0.8;\" x=\"104.963795\" xlink:href=\"#m1dddb5729e\" y=\"224.64\"/>\n      </g>\n     </g>\n     <g id=\"text_2\">\n      <!-- 5.0 -->\n      <defs>\n       <path d=\"M 31.78125 66.40625 \nQ 24.171875 66.40625 20.328125 58.90625 \nQ 16.5 51.421875 16.5 36.375 \nQ 16.5 21.390625 20.328125 13.890625 \nQ 24.171875 6.390625 31.78125 6.390625 \nQ 39.453125 6.390625 43.28125 13.890625 \nQ 47.125 21.390625 47.125 36.375 \nQ 47.125 51.421875 43.28125 58.90625 \nQ 39.453125 66.40625 31.78125 66.40625 \nz\nM 31.78125 74.21875 \nQ 44.046875 74.21875 50.515625 64.515625 \nQ 56.984375 54.828125 56.984375 36.375 \nQ 56.984375 17.96875 50.515625 8.265625 \nQ 44.046875 -1.421875 31.78125 -1.421875 \nQ 19.53125 -1.421875 13.0625 8.265625 \nQ 6.59375 17.96875 6.59375 36.375 \nQ 6.59375 54.828125 13.0625 64.515625 \nQ 19.53125 74.21875 31.78125 74.21875 \nz\n\" id=\"DejaVuSans-48\"/>\n      </defs>\n      <g transform=\"translate(97.012232 239.238437)scale(0.1 -0.1)\">\n       <use xlink:href=\"#DejaVuSans-53\"/>\n       <use x=\"63.623047\" xlink:href=\"#DejaVuSans-46\"/>\n       <use x=\"95.410156\" xlink:href=\"#DejaVuSans-48\"/>\n      </g>\n     </g>\n    </g>\n    <g id=\"xtick_3\">\n     <g id=\"line2d_3\">\n      <g>\n       <use style=\"stroke:#000000;stroke-width:0.8;\" x=\"147.027127\" xlink:href=\"#m1dddb5729e\" y=\"224.64\"/>\n      </g>\n     </g>\n     <g id=\"text_3\">\n      <!-- 5.5 -->\n      <g transform=\"translate(139.075564 239.238437)scale(0.1 -0.1)\">\n       <use xlink:href=\"#DejaVuSans-53\"/>\n       <use x=\"63.623047\" xlink:href=\"#DejaVuSans-46\"/>\n       <use x=\"95.410156\" xlink:href=\"#DejaVuSans-53\"/>\n      </g>\n     </g>\n    </g>\n    <g id=\"xtick_4\">\n     <g id=\"line2d_4\">\n      <g>\n       <use style=\"stroke:#000000;stroke-width:0.8;\" x=\"189.090459\" xlink:href=\"#m1dddb5729e\" y=\"224.64\"/>\n      </g>\n     </g>\n     <g id=\"text_4\">\n      <!-- 6.0 -->\n      <defs>\n       <path d=\"M 33.015625 40.375 \nQ 26.375 40.375 22.484375 35.828125 \nQ 18.609375 31.296875 18.609375 23.390625 \nQ 18.609375 15.53125 22.484375 10.953125 \nQ 26.375 6.390625 33.015625 6.390625 \nQ 39.65625 6.390625 43.53125 10.953125 \nQ 47.40625 15.53125 47.40625 23.390625 \nQ 47.40625 31.296875 43.53125 35.828125 \nQ 39.65625 40.375 33.015625 40.375 \nz\nM 52.59375 71.296875 \nL 52.59375 62.3125 \nQ 48.875 64.0625 45.09375 64.984375 \nQ 41.3125 65.921875 37.59375 65.921875 \nQ 27.828125 65.921875 22.671875 59.328125 \nQ 17.53125 52.734375 16.796875 39.40625 \nQ 19.671875 43.65625 24.015625 45.921875 \nQ 28.375 48.1875 33.59375 48.1875 \nQ 44.578125 48.1875 50.953125 41.515625 \nQ 57.328125 34.859375 57.328125 23.390625 \nQ 57.328125 12.15625 50.6875 5.359375 \nQ 44.046875 -1.421875 33.015625 -1.421875 \nQ 20.359375 -1.421875 13.671875 8.265625 \nQ 6.984375 17.96875 6.984375 36.375 \nQ 6.984375 53.65625 15.1875 63.9375 \nQ 23.390625 74.21875 37.203125 74.21875 \nQ 40.921875 74.21875 44.703125 73.484375 \nQ 48.484375 72.75 52.59375 71.296875 \nz\n\" id=\"DejaVuSans-54\"/>\n      </defs>\n      <g transform=\"translate(181.138896 239.238437)scale(0.1 -0.1)\">\n       <use xlink:href=\"#DejaVuSans-54\"/>\n       <use x=\"63.623047\" xlink:href=\"#DejaVuSans-46\"/>\n       <use x=\"95.410156\" xlink:href=\"#DejaVuSans-48\"/>\n      </g>\n     </g>\n    </g>\n    <g id=\"xtick_5\">\n     <g id=\"line2d_5\">\n      <g>\n       <use style=\"stroke:#000000;stroke-width:0.8;\" x=\"231.153791\" xlink:href=\"#m1dddb5729e\" y=\"224.64\"/>\n      </g>\n     </g>\n     <g id=\"text_5\">\n      <!-- 6.5 -->\n      <g transform=\"translate(223.202228 239.238437)scale(0.1 -0.1)\">\n       <use xlink:href=\"#DejaVuSans-54\"/>\n       <use x=\"63.623047\" xlink:href=\"#DejaVuSans-46\"/>\n       <use x=\"95.410156\" xlink:href=\"#DejaVuSans-53\"/>\n      </g>\n     </g>\n    </g>\n    <g id=\"xtick_6\">\n     <g id=\"line2d_6\">\n      <g>\n       <use style=\"stroke:#000000;stroke-width:0.8;\" x=\"273.217123\" xlink:href=\"#m1dddb5729e\" y=\"224.64\"/>\n      </g>\n     </g>\n     <g id=\"text_6\">\n      <!-- 7.0 -->\n      <defs>\n       <path d=\"M 8.203125 72.90625 \nL 55.078125 72.90625 \nL 55.078125 68.703125 \nL 28.609375 0 \nL 18.3125 0 \nL 43.21875 64.59375 \nL 8.203125 64.59375 \nz\n\" id=\"DejaVuSans-55\"/>\n      </defs>\n      <g transform=\"translate(265.26556 239.238437)scale(0.1 -0.1)\">\n       <use xlink:href=\"#DejaVuSans-55\"/>\n       <use x=\"63.623047\" xlink:href=\"#DejaVuSans-46\"/>\n       <use x=\"95.410156\" xlink:href=\"#DejaVuSans-48\"/>\n      </g>\n     </g>\n    </g>\n    <g id=\"xtick_7\">\n     <g id=\"line2d_7\">\n      <g>\n       <use style=\"stroke:#000000;stroke-width:0.8;\" x=\"315.280454\" xlink:href=\"#m1dddb5729e\" y=\"224.64\"/>\n      </g>\n     </g>\n     <g id=\"text_7\">\n      <!-- 7.5 -->\n      <g transform=\"translate(307.328892 239.238437)scale(0.1 -0.1)\">\n       <use xlink:href=\"#DejaVuSans-55\"/>\n       <use x=\"63.623047\" xlink:href=\"#DejaVuSans-46\"/>\n       <use x=\"95.410156\" xlink:href=\"#DejaVuSans-53\"/>\n      </g>\n     </g>\n    </g>\n    <g id=\"xtick_8\">\n     <g id=\"line2d_8\">\n      <g>\n       <use style=\"stroke:#000000;stroke-width:0.8;\" x=\"357.343786\" xlink:href=\"#m1dddb5729e\" y=\"224.64\"/>\n      </g>\n     </g>\n     <g id=\"text_8\">\n      <!-- 8.0 -->\n      <defs>\n       <path d=\"M 31.78125 34.625 \nQ 24.75 34.625 20.71875 30.859375 \nQ 16.703125 27.09375 16.703125 20.515625 \nQ 16.703125 13.921875 20.71875 10.15625 \nQ 24.75 6.390625 31.78125 6.390625 \nQ 38.8125 6.390625 42.859375 10.171875 \nQ 46.921875 13.96875 46.921875 20.515625 \nQ 46.921875 27.09375 42.890625 30.859375 \nQ 38.875 34.625 31.78125 34.625 \nz\nM 21.921875 38.8125 \nQ 15.578125 40.375 12.03125 44.71875 \nQ 8.5 49.078125 8.5 55.328125 \nQ 8.5 64.0625 14.71875 69.140625 \nQ 20.953125 74.21875 31.78125 74.21875 \nQ 42.671875 74.21875 48.875 69.140625 \nQ 55.078125 64.0625 55.078125 55.328125 \nQ 55.078125 49.078125 51.53125 44.71875 \nQ 48 40.375 41.703125 38.8125 \nQ 48.828125 37.15625 52.796875 32.3125 \nQ 56.78125 27.484375 56.78125 20.515625 \nQ 56.78125 9.90625 50.3125 4.234375 \nQ 43.84375 -1.421875 31.78125 -1.421875 \nQ 19.734375 -1.421875 13.25 4.234375 \nQ 6.78125 9.90625 6.78125 20.515625 \nQ 6.78125 27.484375 10.78125 32.3125 \nQ 14.796875 37.15625 21.921875 38.8125 \nz\nM 18.3125 54.390625 \nQ 18.3125 48.734375 21.84375 45.5625 \nQ 25.390625 42.390625 31.78125 42.390625 \nQ 38.140625 42.390625 41.71875 45.5625 \nQ 45.3125 48.734375 45.3125 54.390625 \nQ 45.3125 60.0625 41.71875 63.234375 \nQ 38.140625 66.40625 31.78125 66.40625 \nQ 25.390625 66.40625 21.84375 63.234375 \nQ 18.3125 60.0625 18.3125 54.390625 \nz\n\" id=\"DejaVuSans-56\"/>\n      </defs>\n      <g transform=\"translate(349.392224 239.238437)scale(0.1 -0.1)\">\n       <use xlink:href=\"#DejaVuSans-56\"/>\n       <use x=\"63.623047\" xlink:href=\"#DejaVuSans-46\"/>\n       <use x=\"95.410156\" xlink:href=\"#DejaVuSans-48\"/>\n      </g>\n     </g>\n    </g>\n   </g>\n   <g id=\"matplotlib.axis_2\">\n    <g id=\"ytick_1\">\n     <g id=\"line2d_9\">\n      <defs>\n       <path d=\"M 0 0 \nL -3.5 0 \n\" id=\"m482c0e5d3c\" style=\"stroke:#000000;stroke-width:0.8;\"/>\n      </defs>\n      <g>\n       <use style=\"stroke:#000000;stroke-width:0.8;\" x=\"30.103125\" xlink:href=\"#m482c0e5d3c\" y=\"221.77566\"/>\n      </g>\n     </g>\n     <g id=\"text_9\">\n      <!-- 0.0 -->\n      <g transform=\"translate(7.2 225.574879)scale(0.1 -0.1)\">\n       <use xlink:href=\"#DejaVuSans-48\"/>\n       <use x=\"63.623047\" xlink:href=\"#DejaVuSans-46\"/>\n       <use x=\"95.410156\" xlink:href=\"#DejaVuSans-48\"/>\n      </g>\n     </g>\n    </g>\n    <g id=\"ytick_2\">\n     <g id=\"line2d_10\">\n      <g>\n       <use style=\"stroke:#000000;stroke-width:0.8;\" x=\"30.103125\" xlink:href=\"#m482c0e5d3c\" y=\"181.061944\"/>\n      </g>\n     </g>\n     <g id=\"text_10\">\n      <!-- 0.5 -->\n      <g transform=\"translate(7.2 184.861163)scale(0.1 -0.1)\">\n       <use xlink:href=\"#DejaVuSans-48\"/>\n       <use x=\"63.623047\" xlink:href=\"#DejaVuSans-46\"/>\n       <use x=\"95.410156\" xlink:href=\"#DejaVuSans-53\"/>\n      </g>\n     </g>\n    </g>\n    <g id=\"ytick_3\">\n     <g id=\"line2d_11\">\n      <g>\n       <use style=\"stroke:#000000;stroke-width:0.8;\" x=\"30.103125\" xlink:href=\"#m482c0e5d3c\" y=\"140.348229\"/>\n      </g>\n     </g>\n     <g id=\"text_11\">\n      <!-- 1.0 -->\n      <defs>\n       <path d=\"M 12.40625 8.296875 \nL 28.515625 8.296875 \nL 28.515625 63.921875 \nL 10.984375 60.40625 \nL 10.984375 69.390625 \nL 28.421875 72.90625 \nL 38.28125 72.90625 \nL 38.28125 8.296875 \nL 54.390625 8.296875 \nL 54.390625 0 \nL 12.40625 0 \nz\n\" id=\"DejaVuSans-49\"/>\n      </defs>\n      <g transform=\"translate(7.2 144.147448)scale(0.1 -0.1)\">\n       <use xlink:href=\"#DejaVuSans-49\"/>\n       <use x=\"63.623047\" xlink:href=\"#DejaVuSans-46\"/>\n       <use x=\"95.410156\" xlink:href=\"#DejaVuSans-48\"/>\n      </g>\n     </g>\n    </g>\n    <g id=\"ytick_4\">\n     <g id=\"line2d_12\">\n      <g>\n       <use style=\"stroke:#000000;stroke-width:0.8;\" x=\"30.103125\" xlink:href=\"#m482c0e5d3c\" y=\"99.634514\"/>\n      </g>\n     </g>\n     <g id=\"text_12\">\n      <!-- 1.5 -->\n      <g transform=\"translate(7.2 103.433733)scale(0.1 -0.1)\">\n       <use xlink:href=\"#DejaVuSans-49\"/>\n       <use x=\"63.623047\" xlink:href=\"#DejaVuSans-46\"/>\n       <use x=\"95.410156\" xlink:href=\"#DejaVuSans-53\"/>\n      </g>\n     </g>\n    </g>\n    <g id=\"ytick_5\">\n     <g id=\"line2d_13\">\n      <g>\n       <use style=\"stroke:#000000;stroke-width:0.8;\" x=\"30.103125\" xlink:href=\"#m482c0e5d3c\" y=\"58.920799\"/>\n      </g>\n     </g>\n     <g id=\"text_13\">\n      <!-- 2.0 -->\n      <defs>\n       <path d=\"M 19.1875 8.296875 \nL 53.609375 8.296875 \nL 53.609375 0 \nL 7.328125 0 \nL 7.328125 8.296875 \nQ 12.9375 14.109375 22.625 23.890625 \nQ 32.328125 33.6875 34.8125 36.53125 \nQ 39.546875 41.84375 41.421875 45.53125 \nQ 43.3125 49.21875 43.3125 52.78125 \nQ 43.3125 58.59375 39.234375 62.25 \nQ 35.15625 65.921875 28.609375 65.921875 \nQ 23.96875 65.921875 18.8125 64.3125 \nQ 13.671875 62.703125 7.8125 59.421875 \nL 7.8125 69.390625 \nQ 13.765625 71.78125 18.9375 73 \nQ 24.125 74.21875 28.421875 74.21875 \nQ 39.75 74.21875 46.484375 68.546875 \nQ 53.21875 62.890625 53.21875 53.421875 \nQ 53.21875 48.921875 51.53125 44.890625 \nQ 49.859375 40.875 45.40625 35.40625 \nQ 44.1875 33.984375 37.640625 27.21875 \nQ 31.109375 20.453125 19.1875 8.296875 \nz\n\" id=\"DejaVuSans-50\"/>\n      </defs>\n      <g transform=\"translate(7.2 62.720017)scale(0.1 -0.1)\">\n       <use xlink:href=\"#DejaVuSans-50\"/>\n       <use x=\"63.623047\" xlink:href=\"#DejaVuSans-46\"/>\n       <use x=\"95.410156\" xlink:href=\"#DejaVuSans-48\"/>\n      </g>\n     </g>\n    </g>\n    <g id=\"ytick_6\">\n     <g id=\"line2d_14\">\n      <g>\n       <use style=\"stroke:#000000;stroke-width:0.8;\" x=\"30.103125\" xlink:href=\"#m482c0e5d3c\" y=\"18.207083\"/>\n      </g>\n     </g>\n     <g id=\"text_14\">\n      <!-- 2.5 -->\n      <g transform=\"translate(7.2 22.006302)scale(0.1 -0.1)\">\n       <use xlink:href=\"#DejaVuSans-50\"/>\n       <use x=\"63.623047\" xlink:href=\"#DejaVuSans-46\"/>\n       <use x=\"95.410156\" xlink:href=\"#DejaVuSans-53\"/>\n      </g>\n     </g>\n    </g>\n   </g>\n   <g id=\"patch_3\">\n    <path d=\"M 30.103125 224.64 \nL 30.103125 7.2 \n\" style=\"fill:none;stroke:#000000;stroke-linecap:square;stroke-linejoin:miter;stroke-width:0.8;\"/>\n   </g>\n   <g id=\"patch_4\">\n    <path d=\"M 364.903125 224.64 \nL 364.903125 7.2 \n\" style=\"fill:none;stroke:#000000;stroke-linecap:square;stroke-linejoin:miter;stroke-width:0.8;\"/>\n   </g>\n   <g id=\"patch_5\">\n    <path d=\"M 30.103125 224.64 \nL 364.903125 224.64 \n\" style=\"fill:none;stroke:#000000;stroke-linecap:square;stroke-linejoin:miter;stroke-width:0.8;\"/>\n   </g>\n   <g id=\"patch_6\">\n    <path d=\"M 30.103125 7.2 \nL 364.903125 7.2 \n\" style=\"fill:none;stroke:#000000;stroke-linecap:square;stroke-linejoin:miter;stroke-width:0.8;\"/>\n   </g>\n  </g>\n </g>\n <defs>\n  <clipPath id=\"p97515121aa\">\n   <rect height=\"217.44\" width=\"334.8\" x=\"30.103125\" y=\"7.2\"/>\n  </clipPath>\n </defs>\n</svg>\n",
      "image/png": "[encoded data removed]"
     },
     "metadata": {
      "needs_background": "light"
     }
    }
   ],
   "source": [
    "plt.scatter(df.sepal_length, df.petal_width, c=colors)\n",
    "plt.show()"
   ]
  },
  {
   "cell_type": "code",
   "execution_count": null,
   "metadata": {},
   "outputs": [],
   "source": []
  }
 ]
}