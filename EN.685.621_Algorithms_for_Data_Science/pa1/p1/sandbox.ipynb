{
 "metadata": {
  "language_info": {
   "codemirror_mode": {
    "name": "ipython",
    "version": 3
   },
   "file_extension": ".py",
   "mimetype": "text/x-python",
   "name": "python",
   "nbconvert_exporter": "python",
   "pygments_lexer": "ipython3",
   "version": "3.7.6-final"
  },
  "orig_nbformat": 2,
  "kernelspec": {
   "name": "python3",
   "display_name": "Python 3",
   "language": "python"
  }
 },
 "nbformat": 4,
 "nbformat_minor": 2,
 "cells": [
  {
   "cell_type": "code",
   "execution_count": 1,
   "metadata": {},
   "outputs": [],
   "source": [
    "import numpy as np\n",
    "import csv \n",
    "import matplotlib.pyplot as plt"
   ]
  },
  {
   "cell_type": "code",
   "execution_count": 2,
   "metadata": {},
   "outputs": [],
   "source": [
    "with open('iris.csv') as f: \n",
    "    reader = csv.reader(f)\n",
    "    l = [row for row in reader]"
   ]
  },
  {
   "cell_type": "code",
   "execution_count": 31,
   "metadata": {},
   "outputs": [],
   "source": [
    "setosa = np.array(l[1:51])"
   ]
  },
  {
   "cell_type": "code",
   "execution_count": 34,
   "metadata": {},
   "outputs": [
    {
     "output_type": "execute_result",
     "data": {
      "text/plain": [
       "['3.5',\n",
       " '3.0',\n",
       " '3.2',\n",
       " '3.1',\n",
       " '3.6',\n",
       " '3.9',\n",
       " '3.4',\n",
       " '3.4',\n",
       " '2.9',\n",
       " '3.1',\n",
       " '3.7',\n",
       " '3.4',\n",
       " '3.0',\n",
       " '3.0',\n",
       " '4.0',\n",
       " '4.4',\n",
       " '3.9',\n",
       " '3.5',\n",
       " '3.8',\n",
       " '3.8',\n",
       " '3.4',\n",
       " '3.7',\n",
       " '3.6',\n",
       " '3.3',\n",
       " '3.4',\n",
       " '3.0',\n",
       " '3.4',\n",
       " '3.5',\n",
       " '3.4',\n",
       " '3.2',\n",
       " '3.1',\n",
       " '3.4',\n",
       " '4.1',\n",
       " '4.2',\n",
       " '3.1',\n",
       " '3.2',\n",
       " '3.5',\n",
       " '3.1',\n",
       " '3.0',\n",
       " '3.4',\n",
       " '3.5',\n",
       " '2.3',\n",
       " '3.2',\n",
       " '3.5',\n",
       " '3.8',\n",
       " '3.0',\n",
       " '3.8',\n",
       " '3.2',\n",
       " '3.7',\n",
       " '3.3']"
      ]
     },
     "metadata": {},
     "execution_count": 34
    }
   ],
   "source": [
    "setosa[:, 1].tolist()"
   ]
  },
  {
   "cell_type": "code",
   "execution_count": null,
   "metadata": {},
   "outputs": [],
   "source": []
  }
 ]
}